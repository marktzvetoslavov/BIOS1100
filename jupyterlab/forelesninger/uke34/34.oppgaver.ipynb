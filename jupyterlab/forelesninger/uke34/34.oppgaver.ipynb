{
 "cells": [
  {
   "cell_type": "markdown",
   "id": "d08bdda3",
   "metadata": {
    "editable": false
   },
   "source": [
    "<!-- File automatically generated using DocOnce (https://github.com/doconce/doconce/):\n",
    "doconce format ipynb 34.oppgaver.do.txt --userdef_environment_file=/Users/alexajo/github/bios1100-uke-for-uke/general/userdef_environments.py --skip_inline_comments --encoding=utf-8 --language=Norwegian --preprocess_include_subst -i EXDIR=/Users/alexajo/github/cse-exercises/src BIOSHOME=/Users/alexajo/github/bios1100-uke-for-uke/src WEEKNUMBER=34 WEEKFOLDER=./34 SEMESTER=H22 SEMESTERSIDE=https://www.uio.no/studier/emner/matnat/ibv/BIOS1100/h22 --ipynb_non_editable_text --without_solutions --without_answers --without_hints --output=/Users/alexajo/github/bios1100-uke-for-uke/pub/34/34.oppgaver.ipynb -->\n",
    "\n",
    "# BIOS1100 H22 oppgaver uke 34"
   ]
  },
  {
   "cell_type": "code",
   "execution_count": null,
   "id": "6e7b1255",
   "metadata": {},
   "outputs": [],
   "source": []
  },
  {
   "cell_type": "markdown",
   "id": "5b93e3b3",
   "metadata": {
    "editable": false
   },
   "source": [
    "## Bli kjent med Jupyter Notebook\n",
    "\n",
    "Vi vil først øve oss på å jobbe med denne notebooken. Denne notebooken består av tekst blandet med Python kode, og steder du kan skrive din egen Python kode.\n",
    "\n",
    "**OBS**\n",
    "\n",
    "Skulle du dobbeltklikke på noe tekst, vil det se veldig annerledes ut. Hvis du for eksempel dobbeltklikker i *denne* tekstcellen, vil den se ut slik:"
   ]
  },
  {
   "cell_type": "markdown",
   "id": "48837a78",
   "metadata": {
    "editable": false
   },
   "source": [
    "\n"
   ]
  },
  {
   "cell_type": "markdown",
   "id": "733d2b4c",
   "metadata": {
    "editable": false
   },
   "source": [
    "<!-- dom:FIGURE:[figures/tekst-som-markdown.png, alt=\"Skjembildet av hvordan denne cellen ser ut som vanlig markdown text\"] Markdown versjonen av tekstcellen over. -->\n",
    "<!-- begin figure -->\n",
    "\n",
    "<img src=\"figures/tekst-som-markdown.png\" alt=\"Skjembildet av hvordan denne cellen ser ut som vanlig markdown text\"><p style=\"font-size: 0.9em\"><i>Figur 1: Markdown versjonen av tekstcellen over.</i></p>\n",
    "<!-- end figure -->"
   ]
  },
  {
   "cell_type": "markdown",
   "id": "95c8ba88",
   "metadata": {
    "editable": false
   },
   "source": [
    "### Hva skjer?\n",
    "\n",
    "Teksten konverteres tilbake til det som kalles markdown-format. Vi snakker mer om markdown senere, men kort fortalt er det en måte å skrive enkel tekst og konvertere den til formatert tekst.\n",
    "\n",
    "Faktisk er disse tekstblokkene også celler i notebooken, men markdown-celler i stedet for Python (kode) celler."
   ]
  },
  {
   "cell_type": "markdown",
   "id": "27897480",
   "metadata": {
    "editable": false
   },
   "source": [
    "### Hvordan å fikse dette?\n",
    "\n",
    "Ved å selektere tekstcellen, å klikke på 'Run' knappen\n",
    "(eller presse både 'ctrl' tasten og 'enter' tasten)\n",
    "blir teksten formatert tilbake igjen.\n",
    "Prøv dette ut!"
   ]
  },
  {
   "cell_type": "markdown",
   "id": "75a230d4",
   "metadata": {
    "editable": false
   },
   "source": [
    "## Jobbe med Python-kode i notebook\n",
    "\n",
    "I pensumboken er det mange steder med Python kode. Kapitlene er tilgjengelige både som PDF, samt som interaktive Jupyter notebooks. Hvis du jobber med boken som Jupyter Notebook, er resultatene fra all Python kode utelatt. Dermed skal du kjøre koden mens du jobber deg gjennom notatboken!\n",
    "\n",
    "Prøv dette nedenfor: kjør kodecellen."
   ]
  },
  {
   "cell_type": "code",
   "execution_count": 1,
   "id": "80dcec65",
   "metadata": {},
   "outputs": [
    {
     "name": "stdout",
     "output_type": "stream",
     "text": [
      "Hei, verden!\n"
     ]
    }
   ],
   "source": [
    "print(\"Hei, verden!\")"
   ]
  },
  {
   "cell_type": "markdown",
   "id": "aeb5e66b",
   "metadata": {
    "editable": false
   },
   "source": [
    "Fungerte det? Gratulerer!\n",
    "\n",
    "Nå skal du lage en ny kodecelle og skrive in et `print()` kommando\n",
    "som skriver ut navnet ditt.\n",
    "\n",
    "Bruk '+' knappen for å plassere en tom kodecelle\n",
    "herunder, og skriv `print()` kommandoet ditt inn i den nye cellen."
   ]
  },
  {
   "cell_type": "code",
   "execution_count": 2,
   "id": "994362d5",
   "metadata": {},
   "outputs": [
    {
     "name": "stdout",
     "output_type": "stream",
     "text": [
      "Hello World!\n"
     ]
    }
   ],
   "source": [
    "print(\"Hello World!\")"
   ]
  },
  {
   "cell_type": "markdown",
   "id": "cd00ec87",
   "metadata": {
    "editable": false
   },
   "source": [
    "## Ukens oppgaver"
   ]
  },
  {
   "cell_type": "markdown",
   "id": "aa336018",
   "metadata": {
    "editable": false
   },
   "source": [
    "## Oppgave 1: Rekkefølge av celler\n",
    "\n",
    "* Lag tre kodeceller med disse komandoer:"
   ]
  },
  {
   "cell_type": "code",
   "execution_count": 2,
   "id": "cc424fd4",
   "metadata": {},
   "outputs": [],
   "source": [
    "mitt_navn = \"Alexander Rybak\""
   ]
  },
  {
   "cell_type": "code",
   "execution_count": 3,
   "id": "dbffce84",
   "metadata": {},
   "outputs": [],
   "source": [
    "mitt_navn = \"Bobbysocks\""
   ]
  },
  {
   "cell_type": "code",
   "execution_count": 4,
   "id": "62ec8f48",
   "metadata": {},
   "outputs": [
    {
     "name": "stdout",
     "output_type": "stream",
     "text": [
      "Bobbysocks\n"
     ]
    }
   ],
   "source": [
    "print(mitt_navn)"
   ]
  },
  {
   "cell_type": "markdown",
   "id": "f71e4b58",
   "metadata": {
    "editable": false
   },
   "source": [
    "* kjør cellene i forskjellige rekkefølger, f. eks.\n",
    "\n",
    "  * `1. - 2. - 3.`\n",
    "\n",
    "  * `2. - 3. - 1.`\n",
    "\n",
    "  * `3. - 3. - 3.`\n",
    "\n",
    "* Diskuter i par hva som skjer og om du forstår hvorfor\n"
   ]
  },
  {
   "cell_type": "markdown",
   "id": "4470480a",
   "metadata": {
    "editable": false
   },
   "source": [
    "## Oppgave 2: Regnerekkefølgen\n",
    "\n",
    "Evaluer for hånd hva følgende Python kommando vil gi som resultat."
   ]
  },
  {
   "cell_type": "code",
   "execution_count": 9,
   "id": "fb581eec",
   "metadata": {},
   "outputs": [
    {
     "name": "stdout",
     "output_type": "stream",
     "text": [
      "51.0\n"
     ]
    }
   ],
   "source": [
    "print(float(\"1\" + \"0\")**2/2 +1)"
   ]
  },
  {
   "cell_type": "markdown",
   "id": "9fb79ddd",
   "metadata": {
    "editable": false
   },
   "source": [
    "Kjør deretter denne kodelinjen for å sjekke om du fikk det korrekte svaret.\n",
    "\n",
    "\n",
    "\n",
    "<!-- Engelsk versjon: fix_error.do.txt -->"
   ]
  },
  {
   "cell_type": "markdown",
   "id": "d8b45ed3",
   "metadata": {
    "editable": false
   },
   "source": [
    "## Oppgave 3: Finn feilen(e)\n",
    "\n",
    "Python programmene nedenfor inneholder en eller flere feil.\n",
    "Først skal du identifisere disse feilene *uten å kjøre programmet*,\n",
    "og deretter korrigere dem slik at programmene kjører uten feil."
   ]
  },
  {
   "cell_type": "markdown",
   "id": "b2641f8f",
   "metadata": {
    "editable": false
   },
   "source": [
    "**a)**\n",
    "Programmet med feilen(e):"
   ]
  },
  {
   "cell_type": "markdown",
   "id": "502e4916",
   "metadata": {
    "editable": false
   },
   "source": [
    "```Python\n",
    "        vekt_kg = 55\n",
    "        vekt_pund = 2.2 * vekt_kg\n",
    "        print(vekt_kg, \"kilogram er det samme som\", vekt pund 'Britiske pund')\n",
    "```"
   ]
  },
  {
   "cell_type": "markdown",
   "id": "c4985ef9",
   "metadata": {
    "editable": false
   },
   "source": [
    "Samme program i en ny kodecelle for deg å jobbe med:"
   ]
  },
  {
   "cell_type": "code",
   "execution_count": 3,
   "id": "9030dce3",
   "metadata": {},
   "outputs": [
    {
     "name": "stdout",
     "output_type": "stream",
     "text": [
      "55  kilogram er det samme som 121.00000000000001 Britiske pund\n"
     ]
    }
   ],
   "source": [
    "vekt_kg = 55\n",
    "vekt_pund = 2.2 * vekt_kg\n",
    "print(vekt_kg, \" kilogram er det samme som\", vekt_pund, 'Britiske pund')"
   ]
  },
  {
   "cell_type": "markdown",
   "id": "9d5a4cfa",
   "metadata": {
    "editable": false
   },
   "source": [
    "**b)**\n",
    "Programmet med feilen(e):"
   ]
  },
  {
   "cell_type": "markdown",
   "id": "c8b49f96",
   "metadata": {
    "editable": false
   },
   "source": [
    "```Python\n",
    "        lengde_m = 66\n",
    "        lengde_ft = 3.28 * lengde_m\n",
    "        print lengde_m, 'meter er det samme som\", lengde_ft, fot\")\n",
    "```"
   ]
  },
  {
   "cell_type": "markdown",
   "id": "c4985ef9_1",
   "metadata": {
    "editable": false
   },
   "source": [
    "Samme program i en ny kodecelle for deg å jobbe med:"
   ]
  },
  {
   "cell_type": "code",
   "execution_count": 5,
   "id": "9c34a02f",
   "metadata": {},
   "outputs": [
    {
     "name": "stdout",
     "output_type": "stream",
     "text": [
      "66 meter er det samme som 216.48 fot\n"
     ]
    }
   ],
   "source": [
    "lengde_m = 66\n",
    "lengde_ft = 3.28 * lengde_m\n",
    "print(lengde_m, \"meter er det samme som\", lengde_ft, \"fot\")"
   ]
  },
  {
   "cell_type": "markdown",
   "id": "59aa8f27",
   "metadata": {
    "editable": false
   },
   "source": [
    "**c)**\n",
    "Programmet med feilen(e):"
   ]
  },
  {
   "cell_type": "markdown",
   "id": "caacc242",
   "metadata": {
    "editable": false
   },
   "source": [
    "```Python\n",
    "        sekunder = 10**8\n",
    "        minuter = sekunder / 60\n",
    "        timer = minuter / 60\n",
    "        dager = timer / 60\n",
    "        aar = dager / 365.25\n",
    "        print(sekund, \"sekunder er det samme som\",, round(aar), 'aar')\n",
    "```"
   ]
  },
  {
   "cell_type": "markdown",
   "id": "c4985ef9_2",
   "metadata": {
    "editable": false
   },
   "source": [
    "Samme program i en ny kodecelle for deg å jobbe med:"
   ]
  },
  {
   "cell_type": "code",
   "execution_count": 6,
   "id": "41f5e1d3",
   "metadata": {},
   "outputs": [
    {
     "name": "stdout",
     "output_type": "stream",
     "text": [
      "100000000 sekunder er det samme som 1 aar\n"
     ]
    }
   ],
   "source": [
    "sekunder = 10**8\n",
    "minuter = sekunder / 60\n",
    "timer = minuter / 60\n",
    "dager = timer / 60\n",
    "aar = dager / 365.25\n",
    "print(sekunder, \"sekunder er det samme som\", round(aar), 'aar')"
   ]
  },
  {
   "cell_type": "markdown",
   "id": "ca82a8f3",
   "metadata": {
    "editable": false
   },
   "source": [
    "**d)**\n",
    "Hvilen av feilene er *ikke* av type `SyntaxError` (syntaks feil)?\n",
    "Hva slags feil ville du kalle det? Og hvordan oppdager man slike feil?\n"
   ]
  },
  {
   "cell_type": "markdown",
   "id": "2c8aa0dc",
   "metadata": {
    "editable": false
   },
   "source": [
    "## Oppgave 4: Refleksjon , og +\n",
    "\n",
    "Bruk 5 minutter, i par, til å skrive ned alle forskjeller\n",
    "mellom det å bruke `,` og `+` til å sette sammen strenger i `print` kommandoer\n"
   ]
  },
  {
   "cell_type": "markdown",
   "id": "5b5241da",
   "metadata": {},
   "source": []
  },
  {
   "cell_type": "markdown",
   "id": "70281100",
   "metadata": {
    "editable": false
   },
   "source": [
    "## Oppgave 5: talltyper\n",
    "\n",
    "Diskuter med din nabo: for hver av disse kodelinjene, hva skrives ut når de kjøres:"
   ]
  },
  {
   "cell_type": "code",
   "execution_count": 7,
   "id": "ad1c6b74",
   "metadata": {},
   "outputs": [
    {
     "name": "stdout",
     "output_type": "stream",
     "text": [
      "12\n",
      "45\n",
      "1.23\n",
      "1.23\n",
      "1.0\n",
      "1.0\n",
      "1\n"
     ]
    }
   ],
   "source": [
    "print(str(1) + str(int(2.0)))\n",
    "\n",
    "print(int(str(int(str(\"45\")))))\n",
    "\n",
    "print(float(\"1.23\"))\n",
    "\n",
    "print(float(1.23))\n",
    "\n",
    "print(float(\"1\"))\n",
    "\n",
    "print(float(1))\n",
    "\n",
    "print(int(1.23))"
   ]
  },
  {
   "cell_type": "markdown",
   "id": "b6989a74",
   "metadata": {
    "editable": false
   },
   "source": [
    "## Oppgave 6: float versus float()\n",
    "\n",
    "I ukens samkoding ble både `float` and `float()` vist.\n",
    "Men hva er egentlig forskjellen mellom `float` med og uten parentes bak?\n",
    "\n",
    "Bruk gjerne noen Python kommandoer eller program for å illustret svaret ditt.\n"
   ]
  },
  {
   "cell_type": "markdown",
   "id": "d877f96a",
   "metadata": {
    "editable": false
   },
   "source": [
    "## Flere Python oppgaver\n",
    "\n",
    "<div class=\"alert alert-block alert-info\">\n",
    "Du finner flere oppgaver for å øve denne ukens nye Python-konsepter\n",
    "blant \"Ekstraøvelser\" for denne ukens kapittel.\n",
    "Se Canvas (under 'Pensum').\n",
    "</div>\n",
    "\n",
    "<!-- size differences bacterial and human cells -->\n",
    "\n",
    "<!-- English: 01_scientific_calculator/cell_volume01.do.txt -->"
   ]
  },
  {
   "cell_type": "markdown",
   "id": "2362a288",
   "metadata": {
    "editable": false
   },
   "source": [
    "## Oppgave 7: Volum av en celle\n",
    "\n",
    "Man hører ofte at kroppene våre \"består\" av flere bakterieceller, enn våre egne celler.\n",
    "Men størrelsen på disse cellene er ganske forskjellige.\n",
    "Celler varierer veldig i størrelse, fra nevroner som strekker seg flere meter,\n",
    "til våre relativt små røde blodlegemer på mindre enn 10 $\\mu$m.\n",
    "\n",
    "Radiusen på en menneskelig kinncelle er omtrent 50 $\\mu$m,\n",
    "mens en bakteriecelle ikke er større enn 5 $\\mu$m.\n",
    "Et vanlig estimat er en 100 ganger forskjell i radius,\n",
    "det vil si at radiusen til en bakteriecelle er 0,5 mikrometer ($\\mu$m),\n",
    "og vi vil bruke den til denne øvelsen.\n",
    "\n",
    "Svarene på spørsmålene nedenfor skal være en full setning."
   ]
  },
  {
   "cell_type": "markdown",
   "id": "70614ad2",
   "metadata": {
    "editable": false
   },
   "source": [
    "**a)**\n",
    "Skriv et Python-program som beregner volumet til en gjennomsnittlig menneskelig kinncelle,\n",
    "og skriver den ut.\n",
    "Volumet til en kule er gitt av formelen $\\frac{4}{3}*\\pi* radius^3$.\n"
   ]
  },
  {
   "cell_type": "code",
   "execution_count": 4,
   "id": "8d1e85cd",
   "metadata": {},
   "outputs": [
    {
     "name": "stdout",
     "output_type": "stream",
     "text": [
      "Volumet til en gjennomsnittlig menneskelig kinncelle er 0.0005235987755982989\n"
     ]
    }
   ],
   "source": [
    "import math \n",
    "kinncelle = 0.05 \n",
    "volum = (4/3) * math.pi * (kinncelle **3)\n",
    "print(\"Volumet til en gjennomsnittlig menneskelig kinncelle er\", float(volum))"
   ]
  },
  {
   "cell_type": "markdown",
   "id": "09113fcb",
   "metadata": {
    "editable": false
   },
   "source": [
    "**b)**\n",
    "Bruk programmet til å beregne størrelsen på den gjennomsnittlige bakteriecellen.\n"
   ]
  },
  {
   "cell_type": "code",
   "execution_count": 5,
   "id": "27c0bd8d",
   "metadata": {},
   "outputs": [
    {
     "name": "stdout",
     "output_type": "stream",
     "text": [
      "Volumet til en gjennomsnittlig bakteriecelle er 5.235987755982989e-07\n"
     ]
    }
   ],
   "source": [
    "import math\n",
    "bakteriecelle = 0.005\n",
    "volum_bakterie = (4/3) * math.pi * (bakteriecelle ** 3)\n",
    "print(\"Volumet til en gjennomsnittlig bakteriecelle er\", float(volum_bakterie))"
   ]
  },
  {
   "cell_type": "markdown",
   "id": "7582dfb4",
   "metadata": {
    "editable": false
   },
   "source": [
    "**c)**\n",
    "Skriv et program som beregner mengden bakterieceller som vil være nødvendig\n",
    "for å fylle volumet tatt opp av en gjennomsnittlig menneskelig kinncelle.\n"
   ]
  },
  {
   "cell_type": "markdown",
   "id": "81d01cf5",
   "metadata": {},
   "source": [
    "For å beregne mengden bakterieceller som vil være nødvendig for å fylle volument tatt opp av en gjennomsnittlig menneskelig kinncelle, kan vi ta volumet til en kincelle delt på volumet til en bakteriecelle. "
   ]
  },
  {
   "cell_type": "code",
   "execution_count": 6,
   "id": "9e496326",
   "metadata": {},
   "outputs": [
    {
     "name": "stdout",
     "output_type": "stream",
     "text": [
      "Det er ca. 1000 bakterieceller som vil være nødvendig for å fylle volument tatt opp av en gjennomsnittlig menneskelig kincelle\n"
     ]
    }
   ],
   "source": [
    "mengde = volum / volum_bakterie\n",
    "print(\"Det er ca.\", int(mengde), \"bakterieceller som vil være nødvendig for å fylle volument tatt opp av en gjennomsnittlig menneskelig kincelle\")"
   ]
  },
  {
   "cell_type": "markdown",
   "id": "91fa180c",
   "metadata": {
    "editable": false
   },
   "source": [
    "**d)**\n",
    "Kan du forklare forholdet gitt den 100-ganger forskjellen i radius?\n"
   ]
  },
  {
   "cell_type": "markdown",
   "id": "42800aff",
   "metadata": {
    "editable": false
   },
   "source": [
    "## Ekstra oppgave\n",
    "\n",
    "Denne siste oppgaven er noe vanskeligere enn resten, samt at den er på engelsk.\n",
    "\n",
    "<!-- camel heat and body temperature -->"
   ]
  },
  {
   "cell_type": "markdown",
   "id": "b95de5a9",
   "metadata": {
    "editable": false
   },
   "source": [
    "## Oppgave 8: Camel body temperature"
   ]
  },
  {
   "cell_type": "markdown",
   "id": "8d33eb95",
   "metadata": {
    "editable": false
   },
   "source": [
    "### Part 1: heating water"
   ]
  },
  {
   "cell_type": "markdown",
   "id": "89acca9c",
   "metadata": {
    "editable": false
   },
   "source": [
    "**a)**\n",
    "1 calorie is the amount of energy needed to increase the temperature of 1g of water by 1 degree celsius. 1 calorie equals 4.184 joules.\n",
    "\n",
    "Write a Python program that converts 7160 joules to calories, rounds the result to 0 decimals and *then* prints the result as a full sentence:"
   ]
  },
  {
   "cell_type": "markdown",
   "id": "253f3aa5",
   "metadata": {
    "editable": false
   },
   "source": [
    "        7160 joules equals _____ calories.\n"
   ]
  },
  {
   "cell_type": "markdown",
   "id": "b7f4e696",
   "metadata": {
    "editable": false
   },
   "source": [
    "Note that rounding must be done *before* printing the results.\n",
    "\n"
   ]
  },
  {
   "cell_type": "code",
   "execution_count": 2,
   "id": "8c56c222",
   "metadata": {},
   "outputs": [
    {
     "name": "stdout",
     "output_type": "stream",
     "text": [
      "please insert amount of joules>> 7160\n",
      "7160 joules equals 2 calories (approx.1.71 calories)\n"
     ]
    }
   ],
   "source": [
    "joules = int(input(\"please insert amount of joules>> \"))\n",
    "result = joules / 4184\n",
    "print(joules, \"joules equals\", round(result), \"calories (approx.{:0.2f} calories)\".format(result))"
   ]
  },
  {
   "cell_type": "markdown",
   "id": "e7444b30",
   "metadata": {
    "editable": false
   },
   "source": [
    "**b)**\n",
    "Now write a program that converts the number of calories from your first program back to joules, rounds the result to 0 decimals, and *then* prints the result as a full sentence. Do you get the same amount of joules back?\n",
    "\n"
   ]
  },
  {
   "cell_type": "code",
   "execution_count": 3,
   "id": "d65e6498",
   "metadata": {},
   "outputs": [
    {
     "name": "stdout",
     "output_type": "stream",
     "text": [
      "please insert amount of calories>> 2\n",
      "2.0 calories equals 8368 joules\n"
     ]
    }
   ],
   "source": [
    "calories = float(input(\"please insert amount of calories>> \"))\n",
    "result = calories * 4184\n",
    "print(calories, \"calories equals\", round(result), \"joules\")"
   ]
  },
  {
   "cell_type": "markdown",
   "id": "7c560f43",
   "metadata": {
    "editable": false
   },
   "source": [
    "**c)**\n",
    "The calorie is a very small unit, and although we in everyday speech indeed use the term \"calories\" when referring to the energy contents of food, the numbers we use and the numbers found on the back of food packaging, is that of kilocalories or kcal (1000 calories). The relationship between a kcal, and a kjoule is the same as for calories and joules: $1 \\text{kcal} = 4.184 \\text{kjoules}$. The relationship between kcal and water heating is also preserved, but upscaled; 1kcal heats 1000g of water by 1 degree celsius.\n",
    "\n",
    "Write a Python program that calculates how many joules are required to heat a bucket with 10L of water from 21 degrees celsius to boiling (100 degrees celsius). Assume that the heat transfer is instantaneous, and that no heat is lost in the process. Do *not* use any rounding in this program.\n",
    "\n",
    "At the end, your program should print a full sentence like this:"
   ]
  },
  {
   "cell_type": "markdown",
   "id": "22bec559",
   "metadata": {
    "editable": false
   },
   "source": [
    "        ____ kjoules are needed to heat 10L of water from 21 degrees C to boiling.\n"
   ]
  },
  {
   "cell_type": "code",
   "execution_count": 9,
   "id": "1022750c",
   "metadata": {},
   "outputs": [
    {
     "name": "stdout",
     "output_type": "stream",
     "text": [
      "3305360 kjoules are needed to heat 10L of water from 21 degrees C to boiling.\n"
     ]
    }
   ],
   "source": [
    "# how do you calculate the energy needed to heat water?\n",
    "# The amount of energy you will need to change the temperature of the water depends \n",
    "# on its initial and final states. Generally, you need to consider two quantities:\n",
    "    # - heat required to raise the temperature (Qt = c * m * (Tf - Ti))\n",
    "# where:\n",
    "    # - c is the specific heat capacity;\n",
    "    # - m is the mass (you can find it knowing the volume, too!);\n",
    "    # - Tf is the final temperature; and\n",
    "    # - Ti is the initial temperature.\n",
    "    \n",
    "capacity = 4184\n",
    "volume = 10\n",
    "final_temperature = 100\n",
    "initial_temperature = 21\n",
    "heat = capacity * volume * (final_temperature - initial_temperature)\n",
    "print(heat, \"kjoules are needed to heat 10L of water from 21 degrees C to boiling.\")"
   ]
  },
  {
   "cell_type": "markdown",
   "id": "d45553af",
   "metadata": {
    "editable": false
   },
   "source": [
    "**d)**\n",
    "What type of variable is your answer to the last exercise? Show how you found out.\n",
    "\n"
   ]
  },
  {
   "cell_type": "markdown",
   "id": "8ec3217d",
   "metadata": {
    "editable": false
   },
   "source": [
    "### Part 2: Camels\n",
    "\n",
    "<!-- Copyright John O'Neill -->\n",
    "<!-- Licensed under Wikimedia Commons free media -->\n",
    "<!-- dom:FIGURE:[figures/camel.jpg, alt=\"A camel in the desert\", width=400, frac=0.4] -->\n",
    "<!-- begin figure -->\n",
    "\n",
    "<img src=\"figures/camel.jpg\" alt=\"A camel in the desert\" width=\"400\"><p style=\"font-size: 0.9em\"><i>Figur 1</i></p>\n",
    "<!-- end figure -->\n",
    "\n",
    "Contrary to popular belief, animals of the genus *camelus*, such as camels and dromedarys, do not carry volumes of water in the \"humps\" on their backs. Although it is indeed true that they can drink and store large amounts of water, and survive for a long time without drinking, camels deal with the heat in much more interesting ways than one might expect. Two important adaptations in camels in order to deal with heat are a large body with concentrated fatty deposits in the \"humps\", and a high tolerance for changes in body temperature. The fat acts as a buffer that soaks thermal energy, causing the temperature rise in the body as a whole to be quite slow; there is simply a lot of body to heat up! During cold desert nights, the effect is reversed and the body is cooled more slowly than in a smaller and leaner body. Allowing themselves to be heated also reduces the thermal gradient against the environment, and thus the heating slows as the camel's body temperature rises.\n",
    "\n",
    "<div class=\"alert alert-block alert-info\">\n",
    "To help yourself with solving the next two subexercises,\n",
    "consider making a drawing, or rewording the problem in your own words\n",
    "<em>before</em> you start writing any Python code.\n",
    "Feel free to check with your neighbour, and/or an assistant.\n",
    "Think about that information is essential for solving the problem,\n",
    "and which parts of the introduction text above are not really needed.\n",
    "</div>"
   ]
  },
  {
   "cell_type": "markdown",
   "id": "9dcf43da",
   "metadata": {
    "editable": false
   },
   "source": [
    "**e)**\n",
    "Assume that a camel with a mass of 470kg receives a net heat gain averaging 90 $\\frac{joules}{second}$ throughout a day lasting 13.5 hours. Our camel consists of 55% water, and we will assume that the water is the only thing that affects body temperature. The camel starts out in the morning at a body temperature of 35.5 degrees celsius. Write a python program that calculates the final body temperature at the end of the day, rounded to two decimals.\n",
    "\n"
   ]
  },
  {
   "cell_type": "markdown",
   "id": "9975a312",
   "metadata": {
    "editable": false
   },
   "source": [
    "**f)**\n",
    "If the fat storage in the camel's hump would reduce the heat gain by 50%, what would then be the final body temperature at the end of the day?\n",
    "\n"
   ]
  }
 ],
 "metadata": {
  "kernelspec": {
   "display_name": "Python 3 (ipykernel)",
   "language": "python",
   "name": "python3"
  },
  "language_info": {
   "codemirror_mode": {
    "name": "ipython",
    "version": 3
   },
   "file_extension": ".py",
   "mimetype": "text/x-python",
   "name": "python",
   "nbconvert_exporter": "python",
   "pygments_lexer": "ipython3",
   "version": "3.10.5"
  }
 },
 "nbformat": 4,
 "nbformat_minor": 5
}

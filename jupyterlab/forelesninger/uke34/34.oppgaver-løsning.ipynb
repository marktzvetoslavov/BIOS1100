{
 "cells": [
  {
   "cell_type": "markdown",
   "id": "5760f96b",
   "metadata": {
    "editable": false
   },
   "source": [
    "## <!-- File automatically generated using DocOnce (https://github.com/doconce/doconce/):\n",
    "doconce format ipynb tmp_mako__34.oppgaver.do.txt --userdef_environment_file=/Users/alexajo/github/bios1100-uke-for-uke/general/userdef_environments.py --skip_inline_comments --encoding=utf-8 --language=Norwegian --ipynb_non_editable_text --execute=abort --output=/Users/alexajo/github/bios1100-uke-for-uke/pub/34/34.oppgaver-løsning.ipynb --execute -->\n",
    "\n",
    "# BIOS1100 H22 oppgaver uke 34 - løsningsforslag"
   ]
  },
  {
   "cell_type": "markdown",
   "id": "aa336018",
   "metadata": {
    "editable": false
   },
   "source": [
    "## Oppgave 1: Rekkefølge av celler\n",
    "\n",
    "* Lag tre kodeceller med disse komandoer:"
   ]
  },
  {
   "cell_type": "code",
   "execution_count": 2,
   "id": "cc424fd4",
   "metadata": {},
   "outputs": [],
   "source": [
    "mitt_navn = \"Alexander Rybak\""
   ]
  },
  {
   "cell_type": "code",
   "execution_count": 3,
   "id": "dbffce84",
   "metadata": {},
   "outputs": [],
   "source": [
    "mitt_navn = \"Bobbysocks\""
   ]
  },
  {
   "cell_type": "code",
   "execution_count": 4,
   "id": "62ec8f48",
   "metadata": {},
   "outputs": [
    {
     "name": "stdout",
     "output_type": "stream",
     "text": [
      "Bobbysocks\n"
     ]
    }
   ],
   "source": [
    "print(mitt_navn)"
   ]
  },
  {
   "cell_type": "markdown",
   "id": "f71e4b58",
   "metadata": {
    "editable": false
   },
   "source": [
    "* kjør cellene i forskjellige rekkefølger, f. eks.\n",
    "\n",
    "  * `1. - 2. - 3.`\n",
    "\n",
    "  * `2. - 3. - 1.`\n",
    "\n",
    "  * `3. - 3. - 3.`\n",
    "\n",
    "* Diskuter i par hva som skjer og om du forstår hvorfor\n",
    "\n",
    "<!-- --- begin answer of exercise --- -->\n",
    "**Fasit.**\n",
    "Det er viktig å merke seg dette:\n",
    "* kodecellene i Notebook kan kjøres i hvilken som helst rekkefølge\n",
    "\n",
    "* tallene til venstre for kodecellene, de i firkantede klammer, kan hjelpe deg å finne ut hvilken rekkefølge\n",
    "\n",
    "* verdiene variabler representerer er altid et resultat av den siste gangen den ble satt\n",
    "\n",
    "Et viktig råd er dermed å altid kjøre kodecellene (igjen) i den rekkefølgen\n",
    "de er i notebooken.\n",
    "\n",
    "<!-- --- end answer of exercise --- -->"
   ]
  },
  {
   "cell_type": "markdown",
   "id": "4470480a",
   "metadata": {
    "editable": false
   },
   "source": [
    "## Oppgave 2: Regnerekkefølgen\n",
    "\n",
    "Evaluer for hånd hva følgende Python kommando vil gi som resultat."
   ]
  },
  {
   "cell_type": "code",
   "execution_count": 5,
   "id": "fb581eec",
   "metadata": {},
   "outputs": [
    {
     "name": "stdout",
     "output_type": "stream",
     "text": [
      "51.0\n"
     ]
    }
   ],
   "source": [
    "print(float(\"1\" + \"0\")**2/2 +1)"
   ]
  },
  {
   "cell_type": "markdown",
   "id": "9fb79ddd",
   "metadata": {
    "editable": false
   },
   "source": [
    "Kjør deretter denne kodelinjen for å sjekke om du fikk det korrekte svaret.\n",
    "\n",
    "<!-- --- begin answer of exercise --- -->\n",
    "**Fasit.**\n",
    "51.0\n",
    "\n",
    "<!-- --- end answer of exercise --- -->\n",
    "\n",
    "<!-- --- begin solution of exercise --- -->\n",
    "**Løsningsforslag.**\n",
    "* `\"1\" +  \"0\"` blir `\"10\"` (en tekststreng)\n",
    "\n",
    "* `float(\"10\")` blir `10.0` (et flyttal (float))\n",
    "\n",
    "* `10**2/2 + 1` blir `51.0` (et flyttal (float)) fordi de regnes ut som `((10**2)/2) + 1`\n",
    "\n",
    "<!-- --- end solution of exercise --- -->\n",
    "\n",
    "<!-- Engelsk versjon: fix_error.do.txt -->"
   ]
  },
  {
   "cell_type": "markdown",
   "id": "d8b45ed3",
   "metadata": {
    "editable": false
   },
   "source": [
    "## Oppgave 3: Finn feilen(e)\n",
    "\n",
    "Python programmene nedenfor inneholder en eller flere feil.\n",
    "Først skal du identifisere disse feilene *uten å kjøre programmet*,\n",
    "og deretter korrigere dem slik at programmene kjører uten feil."
   ]
  },
  {
   "cell_type": "markdown",
   "id": "b2641f8f",
   "metadata": {
    "editable": false
   },
   "source": [
    "**a)**\n",
    "Programmet med feilen(e):"
   ]
  },
  {
   "cell_type": "markdown",
   "id": "502e4916",
   "metadata": {
    "editable": false
   },
   "source": [
    "```Python\n",
    "        vekt_kg = 55\n",
    "        vekt_pund = 2.2 * vekt_kg\n",
    "        print(vekt_kg, \"kilogram er det samme som\", vekt pund 'Britiske pund')\n",
    "```"
   ]
  },
  {
   "cell_type": "markdown",
   "id": "7f65fdc1",
   "metadata": {
    "editable": false
   },
   "source": [
    "<!-- --- begin solution of exercise --- -->\n",
    "**Løsningsforslag.**\n",
    "* `vekt pund` skal være `vekt_pund`\n",
    "\n",
    "* det mangler en komma foran `'Britiske pund'`"
   ]
  },
  {
   "cell_type": "code",
   "execution_count": 6,
   "id": "65286f48",
   "metadata": {},
   "outputs": [
    {
     "name": "stdout",
     "output_type": "stream",
     "text": [
      "55 kilograms er det samme som 121.00000000000001 Britiske pund\n"
     ]
    }
   ],
   "source": [
    "vekt_kg = 55\n",
    "vekt_pund = 2.2 * vekt_kg\n",
    "print(vekt_kg, \"kilograms er det samme som\", vekt_pund, 'Britiske pund')"
   ]
  },
  {
   "cell_type": "markdown",
   "id": "a8a5944a",
   "metadata": {
    "editable": false
   },
   "source": [
    "<!-- --- end solution of exercise --- -->"
   ]
  },
  {
   "cell_type": "markdown",
   "id": "9d5a4cfa",
   "metadata": {
    "editable": false
   },
   "source": [
    "**b)**\n",
    "Programmet med feilen(e):"
   ]
  },
  {
   "cell_type": "markdown",
   "id": "c8b49f96",
   "metadata": {
    "editable": false
   },
   "source": [
    "```Python\n",
    "        lengde_m = 66\n",
    "        lengde_ft = 3.28 * lengde_m\n",
    "        print lengde_m, 'meter er det samme som\", lengde_ft, fot\")\n",
    "```"
   ]
  },
  {
   "cell_type": "markdown",
   "id": "eb7529b2",
   "metadata": {
    "editable": false
   },
   "source": [
    "<!-- --- begin solution of exercise --- -->\n",
    "**Løsningsforslag.**\n",
    "* det mangler en `(` etter `print`\n",
    "\n",
    "* blanding av enkle og doble anførselestegn\n",
    "\n",
    "* manglende anførselestegn foran `fot`"
   ]
  },
  {
   "cell_type": "code",
   "execution_count": 7,
   "id": "276068ac",
   "metadata": {},
   "outputs": [
    {
     "name": "stdout",
     "output_type": "stream",
     "text": [
      "66 meter er det samme som 216.48 fot\n"
     ]
    }
   ],
   "source": [
    "lengde_m = 66\n",
    "lengde_ft = 3.28 * lengde_m\n",
    "print(lengde_m, \"meter er det samme som\", lengde_ft, \"fot\")"
   ]
  },
  {
   "cell_type": "markdown",
   "id": "a8a5944a_1",
   "metadata": {
    "editable": false
   },
   "source": [
    "<!-- --- end solution of exercise --- -->"
   ]
  },
  {
   "cell_type": "markdown",
   "id": "59aa8f27",
   "metadata": {
    "editable": false
   },
   "source": [
    "**c)**\n",
    "Programmet med feilen(e):"
   ]
  },
  {
   "cell_type": "markdown",
   "id": "caacc242",
   "metadata": {
    "editable": false
   },
   "source": [
    "```Python\n",
    "        sekunder = 10**8\n",
    "        minuter = sekunder / 60\n",
    "        timer = minuter / 60\n",
    "        dager = timer / 60\n",
    "        aar = dager / 365.25\n",
    "        print(sekund, \"sekunder er det samme som\",, round(aar), 'aar')\n",
    "```"
   ]
  },
  {
   "cell_type": "markdown",
   "id": "806cd8a4",
   "metadata": {
    "editable": false
   },
   "source": [
    "<!-- --- begin solution of exercise --- -->\n",
    "**Løsningsforslag.**\n",
    "* to kommaer etter `er det samme som\"`\n",
    "\n",
    "* `sekund` should be `sekunders`\n",
    "\n",
    "* det er 24 timer i et døgn, ikke 60"
   ]
  },
  {
   "cell_type": "code",
   "execution_count": 8,
   "id": "a8532451",
   "metadata": {},
   "outputs": [
    {
     "name": "stdout",
     "output_type": "stream",
     "text": [
      "100000000 sekunder er det samme som 3 aar\n"
     ]
    }
   ],
   "source": [
    "sekunder = 10**8\n",
    "minuter = sekunder / 60\n",
    "timer = minuter / 60\n",
    "dager = timer / 24\n",
    "aar = dager / 365.25\n",
    "print(sekunder, \"sekunder er det samme som\", round(aar), 'aar')"
   ]
  },
  {
   "cell_type": "markdown",
   "id": "a8a5944a_2",
   "metadata": {
    "editable": false
   },
   "source": [
    "<!-- --- end solution of exercise --- -->"
   ]
  },
  {
   "cell_type": "markdown",
   "id": "ca82a8f3",
   "metadata": {
    "editable": false
   },
   "source": [
    "**d)**\n",
    "Hvilen av feilene er *ikke* av type `SyntaxError` (syntaks feil)?\n",
    "Hva slags feil ville du kalle det? Og hvordan oppdager man slike feil?\n",
    "\n",
    "<!-- --- begin answer of exercise --- -->\n",
    "**Fasit.**\n",
    "Feilen i beregning av antall timer i et døgn er ikke en syntaks feil,\n",
    "men en 'tenkefeil'. Programmet kjører fint, men resultatet til slutt er feil.\n",
    "Slike feil er ofte vanskeligere å oppdage siden Python ikke sier i fra om dem.\n",
    "<!-- --- end answer of exercise --- -->"
   ]
  },
  {
   "cell_type": "markdown",
   "id": "2c8aa0dc",
   "metadata": {
    "editable": false
   },
   "source": [
    "## Oppgave 4: Refleksjon , og +\n",
    "\n",
    "Bruk 5 minutter, i par, til å skrive ned alle forskjeller\n",
    "mellom det å bruke `,` og `+` til å sette sammen strenger i `print` kommandoer\n",
    "\n",
    "<!-- --- begin answer of exercise --- -->\n",
    "**Fasit.**\n",
    "* `,` legger til et mellomrom\n",
    "\n",
    "* `,` kan brukes for å kombinere strenger og tall\n",
    "\n",
    "* `+` legger ikke til et mellomrom\n",
    "\n",
    "* `+` forventer bare strenger, og krever konverting til strenger for tall (med hjelp av `str()`)\n",
    "\n",
    "<!-- --- end answer of exercise --- -->"
   ]
  },
  {
   "cell_type": "markdown",
   "id": "70281100",
   "metadata": {
    "editable": false
   },
   "source": [
    "## Oppgave 5: talltyper\n",
    "\n",
    "Diskuter med din nabo: for hver av disse kodelinjene, hva skrives ut når de kjøres:"
   ]
  },
  {
   "cell_type": "code",
   "execution_count": 9,
   "id": "ad1c6b74",
   "metadata": {},
   "outputs": [
    {
     "name": "stdout",
     "output_type": "stream",
     "text": [
      "12\n",
      "45\n",
      "1.23\n",
      "1.23\n",
      "1.0\n",
      "1.0\n"
     ]
    },
    {
     "ename": "ValueError",
     "evalue": "invalid literal for int() with base 10: '1.23'",
     "output_type": "error",
     "traceback": [
      "\u001b[0;31m---------------------------------------------------------------------------\u001b[0m",
      "\u001b[0;31mValueError\u001b[0m                                Traceback (most recent call last)",
      "Input \u001b[0;32mIn [9]\u001b[0m, in \u001b[0;36m<cell line: 13>\u001b[0;34m()\u001b[0m\n\u001b[1;32m      9\u001b[0m \u001b[38;5;28mprint\u001b[39m(\u001b[38;5;28mfloat\u001b[39m(\u001b[38;5;124m\"\u001b[39m\u001b[38;5;124m1\u001b[39m\u001b[38;5;124m\"\u001b[39m))\n\u001b[1;32m     11\u001b[0m \u001b[38;5;28mprint\u001b[39m(\u001b[38;5;28mfloat\u001b[39m(\u001b[38;5;241m1\u001b[39m))\n\u001b[0;32m---> 13\u001b[0m \u001b[38;5;28mprint\u001b[39m(\u001b[38;5;28;43mint\u001b[39;49m\u001b[43m(\u001b[49m\u001b[38;5;124;43m\"\u001b[39;49m\u001b[38;5;124;43m1.23\u001b[39;49m\u001b[38;5;124;43m\"\u001b[39;49m\u001b[43m)\u001b[49m)\n",
      "\u001b[0;31mValueError\u001b[0m: invalid literal for int() with base 10: '1.23'"
     ]
    }
   ],
   "source": [
    "print(str(1) + str(int(2.0)))\n",
    "\n",
    "print(int(str(int(str(\"45\")))))\n",
    "\n",
    "print(float(\"1.23\"))\n",
    "\n",
    "print(float(1.23))\n",
    "\n",
    "print(float(\"1\"))\n",
    "\n",
    "print(float(1))\n",
    "\n",
    "print(int(\"1.23\"))"
   ]
  },
  {
   "cell_type": "markdown",
   "id": "0555a404",
   "metadata": {
    "editable": false
   },
   "source": [
    "<!-- --- begin solution of exercise --- -->\n",
    "**Løsningsforslag.**\n",
    "Litt forklaring til den siste oppgaven:"
   ]
  },
  {
   "cell_type": "markdown",
   "id": "b46b18c0",
   "metadata": {
    "editable": false
   },
   "source": [
    "        ValueError: invalid literal for int() with base 10: '1.23'\n"
   ]
  },
  {
   "cell_type": "markdown",
   "id": "93b9f6e9",
   "metadata": {
    "editable": false
   },
   "source": [
    "Nokså kryptisk, men du skjønner kanskje feilen:\n",
    "strengen som konverteres fører ikke til et heltall.\n",
    "\n",
    "<!-- --- end solution of exercise --- -->"
   ]
  },
  {
   "cell_type": "markdown",
   "id": "b6989a74",
   "metadata": {
    "editable": false
   },
   "source": [
    "## Oppgave 6: float versus float()\n",
    "\n",
    "I ukens samkoding ble både `float` and `float()` vist.\n",
    "Men hva er egentlig forskjellen mellom `float` med og uten parentes bak?\n",
    "\n",
    "Bruk gjerne noen Python kommandoer eller program for å illustret svaret ditt.\n",
    "\n",
    "<!-- --- begin solution of exercise --- -->\n",
    "**Løsningsforslag.**\n",
    "`float`, uten parentes, er en type variabel:"
   ]
  },
  {
   "cell_type": "code",
   "execution_count": 10,
   "id": "ced5b24e",
   "metadata": {},
   "outputs": [
    {
     "name": "stdout",
     "output_type": "stream",
     "text": [
      "<class 'float'>\n"
     ]
    }
   ],
   "source": [
    "a = 1.2\n",
    "print(type(a))"
   ]
  },
  {
   "cell_type": "markdown",
   "id": "28c72440",
   "metadata": {
    "editable": false
   },
   "source": [
    "`float()`, med parentes, er en funksjon som konverterer en verdi av en annen\n",
    "type til `float`:"
   ]
  },
  {
   "cell_type": "code",
   "execution_count": 11,
   "id": "c7f04e61",
   "metadata": {},
   "outputs": [
    {
     "name": "stdout",
     "output_type": "stream",
     "text": [
      "1.2\n"
     ]
    }
   ],
   "source": [
    "b = \"1.2\"\n",
    "print(float(b))"
   ]
  },
  {
   "cell_type": "markdown",
   "id": "a8a5944a_3",
   "metadata": {
    "editable": false
   },
   "source": [
    "<!-- --- end solution of exercise --- -->"
   ]
  },
  {
   "cell_type": "markdown",
   "id": "d877f96a",
   "metadata": {
    "editable": false
   },
   "source": [
    "## Flere Python oppgaver\n",
    "\n",
    "<div class=\"alert alert-block alert-info\">\n",
    "Du finner flere oppgaver for å øve denne ukens nye Python-konsepter\n",
    "blant \"Ekstraøvelser\" for denne ukens kapittel.\n",
    "Se Canvas (under 'Pensum').\n",
    "</div>\n",
    "\n",
    "<!-- size differences bacterial and human cells -->\n",
    "\n",
    "<!-- English: 01_scientific_calculator/cell_volume01.do.txt -->"
   ]
  },
  {
   "cell_type": "markdown",
   "id": "2362a288",
   "metadata": {
    "editable": false
   },
   "source": [
    "## Oppgave 7: Volum av en celle\n",
    "\n",
    "Man hører ofte at kroppene våre \"består\" av flere bakterieceller, enn våre egne celler.\n",
    "Men størrelsen på disse cellene er ganske forskjellige.\n",
    "Celler varierer veldig i størrelse, fra nevroner som strekker seg flere meter,\n",
    "til våre relativt små røde blodlegemer på mindre enn 10 $\\mu$m.\n",
    "\n",
    "Radiusen på en menneskelig kinncelle er omtrent 50 $\\mu$m,\n",
    "mens en bakteriecelle ikke er større enn 5 $\\mu$m.\n",
    "Et vanlig estimat er en 100 ganger forskjell i radius,\n",
    "det vil si at radiusen til en bakteriecelle er 0,5 mikrometer ($\\mu$m),\n",
    "og vi vil bruke den til denne øvelsen.\n",
    "\n",
    "Svarene på spørsmålene nedenfor skal være en full setning."
   ]
  },
  {
   "cell_type": "markdown",
   "id": "70614ad2",
   "metadata": {
    "editable": false
   },
   "source": [
    "**a)**\n",
    "Skriv et Python-program som beregner volumet til en gjennomsnittlig menneskelig kinncelle,\n",
    "og skriver den ut.\n",
    "Volumet til en kule er gitt av formelen $\\frac{4}{3}*\\pi* radius^3$.\n",
    "\n",
    "<!-- --- begin solution of exercise --- -->\n",
    "**Løsningsforslag.**"
   ]
  },
  {
   "cell_type": "code",
   "execution_count": 12,
   "id": "d0d42b79",
   "metadata": {},
   "outputs": [
    {
     "name": "stdout",
     "output_type": "stream",
     "text": [
      "Volumet til en kinncelle er523598.7755982988mikrometer\n"
     ]
    }
   ],
   "source": [
    "from pylab import *\n",
    "radius_kinncelle = 50\n",
    "vol_kinncelle = (4/3) * pi * radius_kinncelle ** 3\n",
    "print (\"Volumet til en kinncelle er\" + str(vol_kinncelle) + \"mikrometer\")"
   ]
  },
  {
   "cell_type": "markdown",
   "id": "a8a5944a_4",
   "metadata": {
    "editable": false
   },
   "source": [
    "<!-- --- end solution of exercise --- -->"
   ]
  },
  {
   "cell_type": "markdown",
   "id": "09113fcb",
   "metadata": {
    "editable": false
   },
   "source": [
    "**b)**\n",
    "Bruk programmet til å beregne størrelsen på den gjennomsnittlige bakteriecellen.\n",
    "\n",
    "<!-- --- begin solution of exercise --- -->\n",
    "**Løsningsforslag.**"
   ]
  },
  {
   "cell_type": "code",
   "execution_count": 13,
   "id": "b145d3f1",
   "metadata": {},
   "outputs": [
    {
     "name": "stdout",
     "output_type": "stream",
     "text": [
      "Volumet til en bakteriecelle er0.5235987755982988mikrometer\n"
     ]
    }
   ],
   "source": [
    "radius_bakt = 0.5\n",
    "vol_bakt = (4/3) * pi * radius_bakt ** 3\n",
    "print (\"Volumet til en bakteriecelle er\" + str(vol_bakt) + \"mikrometer\")"
   ]
  },
  {
   "cell_type": "markdown",
   "id": "a8a5944a_5",
   "metadata": {
    "editable": false
   },
   "source": [
    "<!-- --- end solution of exercise --- -->"
   ]
  },
  {
   "cell_type": "markdown",
   "id": "7582dfb4",
   "metadata": {
    "editable": false
   },
   "source": [
    "**c)**\n",
    "Skriv et program som beregner mengden bakterieceller som vil være nødvendig\n",
    "for å fylle volumet tatt opp av en gjennomsnittlig menneskelig kinncelle.\n",
    "\n",
    "<!-- --- begin solution of exercise --- -->\n",
    "**Løsningsforslag.**"
   ]
  },
  {
   "cell_type": "code",
   "execution_count": 14,
   "id": "aefed26a",
   "metadata": {},
   "outputs": [
    {
     "name": "stdout",
     "output_type": "stream",
     "text": [
      "Mengden E. coli-celler som kan passe inn i en menneskelig celle er1000000.0\n"
     ]
    }
   ],
   "source": [
    "vol_ratio = vol_kinncelle / vol_bakt\n",
    "print(\"Mengden E. coli-celler som kan passe inn i en menneskelig celle er\" + str (vol_ratio))"
   ]
  },
  {
   "cell_type": "markdown",
   "id": "100e1466",
   "metadata": {
    "editable": false
   },
   "source": [
    "Hvis du avrundet tallene før du skrev ut, ville svaret være litt annerledes:"
   ]
  },
  {
   "cell_type": "code",
   "execution_count": 15,
   "id": "aaab1c81",
   "metadata": {},
   "outputs": [
    {
     "name": "stdout",
     "output_type": "stream",
     "text": [
      "1006920.73\n"
     ]
    }
   ],
   "source": [
    "vol_kinncelle = round((4/3) * pi * radius_kinncelle ** 3, 2)\n",
    "vol_bakt = round((4/3) * pi * radius_bakt ** 3, 2)\n",
    "vol_ratio = round(vol_kinncelle / vol_bakt, 2)\n",
    "print(vol_ratio)"
   ]
  },
  {
   "cell_type": "markdown",
   "id": "a8a5944a_6",
   "metadata": {
    "editable": false
   },
   "source": [
    "<!-- --- end solution of exercise --- -->"
   ]
  },
  {
   "cell_type": "markdown",
   "id": "8adb9bfe",
   "metadata": {
    "editable": false
   },
   "source": [
    "**d)**\n",
    "Kan du forklare forholdet gitt den 100-ganger forskjellen i radius?\n",
    "\n",
    "<!-- --- begin solution of exercise --- -->\n",
    "**Løsningsforslag.**\n",
    "Svaret, $1000000$, er kuben til forskjellen i radius, $100^3$,\n",
    "forklart ved at for å beregne volumet må man ta kuben av radiusen.\n",
    "<!-- --- end solution of exercise --- -->\n",
    "\n",
    "<!-- camel heat and body temperature -->"
   ]
  },
  {
   "cell_type": "markdown",
   "id": "b95de5a9",
   "metadata": {
    "editable": false
   },
   "source": [
    "## Oppgave 8: Camel body temperature"
   ]
  },
  {
   "cell_type": "markdown",
   "id": "8d33eb95",
   "metadata": {
    "editable": false
   },
   "source": [
    "### Part 1: heating water"
   ]
  },
  {
   "cell_type": "markdown",
   "id": "89acca9c",
   "metadata": {
    "editable": false
   },
   "source": [
    "**a)**\n",
    "1 calorie is the amount of energy needed to increase the temperature of 1g of water by 1 degree celsius. 1 calorie equals 4.184 joules.\n",
    "\n",
    "Write a Python program that converts 7160 joules to calories, rounds the result to 0 decimals and *then* prints the result as a full sentence:"
   ]
  },
  {
   "cell_type": "markdown",
   "id": "253f3aa5",
   "metadata": {
    "editable": false
   },
   "source": [
    "        7160 joules equals _____ calories.\n"
   ]
  },
  {
   "cell_type": "markdown",
   "id": "b7f4e696",
   "metadata": {
    "editable": false
   },
   "source": [
    "Note that rounding must be done *before* printing the results.\n",
    "\n",
    "<!-- --- begin answer of exercise --- -->\n",
    "**Fasit.**\n",
    "7160 joules equals 1711 calories.\n",
    "<!-- --- end answer of exercise --- -->\n",
    "\n",
    "<!-- --- begin solution of exercise --- -->\n",
    "**Løsningsforslag.**"
   ]
  },
  {
   "cell_type": "code",
   "execution_count": 16,
   "id": "9dc0df5b",
   "metadata": {},
   "outputs": [
    {
     "name": "stdout",
     "output_type": "stream",
     "text": [
      "7160 joules equals 1711 calories.\n"
     ]
    }
   ],
   "source": [
    "joules = 7160\n",
    "calories = round(joules/4.184)\n",
    "# Prints the amount of calories given by the input of joules\n",
    "print(str(joules), \"joules equals\", str(calories), \"calories.\")"
   ]
  },
  {
   "cell_type": "markdown",
   "id": "c6e57098",
   "metadata": {
    "editable": false
   },
   "source": [
    "Also correct is when `+` is used, but then there *have* to be the correct number of spaces around the text:"
   ]
  },
  {
   "cell_type": "code",
   "execution_count": 17,
   "id": "43281567",
   "metadata": {},
   "outputs": [
    {
     "name": "stdout",
     "output_type": "stream",
     "text": [
      "7160 joules equals 1711 calories.\n"
     ]
    }
   ],
   "source": [
    "print(str(joules) + \" joules equals \" + str(calories) + \" calories.\")"
   ]
  },
  {
   "cell_type": "markdown",
   "id": "a8a5944a_7",
   "metadata": {
    "editable": false
   },
   "source": [
    "<!-- --- end solution of exercise --- -->"
   ]
  },
  {
   "cell_type": "markdown",
   "id": "e7444b30",
   "metadata": {
    "editable": false
   },
   "source": [
    "**b)**\n",
    "Now write a program that converts the number of calories from your first program back to joules, rounds the result to 0 decimals, and *then* prints the result as a full sentence. Do you get the same amount of joules back?\n",
    "\n",
    "<!-- --- begin answer of exercise --- -->\n",
    "**Fasit.**\n",
    "1711 calories equals 7159 joules; we lose one calorie due to the rounding.\n",
    "<!-- --- end answer of exercise --- -->\n",
    "\n",
    "<!-- --- begin solution of exercise --- -->\n",
    "**Løsningsforslag.**"
   ]
  },
  {
   "cell_type": "code",
   "execution_count": 18,
   "id": "9c3e4c8f",
   "metadata": {},
   "outputs": [
    {
     "name": "stdout",
     "output_type": "stream",
     "text": [
      "1711 calories equals 7159 joules\n"
     ]
    }
   ],
   "source": [
    "# Reverse calculator\n",
    "# it is good practice (but not essential) to use a new name for the 'joules' variable\n",
    "joules2 = round(calories * 4.184)\n",
    "print(str(calories) + \" calories equals \" + str(joules2) + \" joules\")"
   ]
  },
  {
   "cell_type": "markdown",
   "id": "a8a5944a_8",
   "metadata": {
    "editable": false
   },
   "source": [
    "<!-- --- end solution of exercise --- -->"
   ]
  },
  {
   "cell_type": "markdown",
   "id": "7c560f43",
   "metadata": {
    "editable": false
   },
   "source": [
    "**c)**\n",
    "The calorie is a very small unit, and although we in everyday speech indeed use the term \"calories\" when referring to the energy contents of food, the numbers we use and the numbers found on the back of food packaging, is that of kilocalories or kcal (1000 calories). The relationship between a kcal, and a kjoule is the same as for calories and joules: $1 \\text{kcal} = 4.184 \\text{kjoules}$. The relationship between kcal and water heating is also preserved, but upscaled; 1kcal heats 1000g of water by 1 degree celsius.\n",
    "\n",
    "Write a Python program that calculates how many joules are required to heat a bucket with 10L of water from 21 degrees celsius to boiling (100 degrees celsius). Assume that the heat transfer is instantaneous, and that no heat is lost in the process. Do *not* use any rounding in this program.\n",
    "\n",
    "At the end, your program should print a full sentence like this:"
   ]
  },
  {
   "cell_type": "markdown",
   "id": "22bec559",
   "metadata": {
    "editable": false
   },
   "source": [
    "        ____ kjoules are needed to heat 10L of water from 21 degrees C to boiling.\n"
   ]
  },
  {
   "cell_type": "markdown",
   "id": "ec1ed011",
   "metadata": {
    "editable": false
   },
   "source": [
    "<!-- --- begin answer of exercise --- -->\n",
    "**Fasit.**\n",
    "3305.36 kjoules are needed to heat 10L of water from 21 degrees C to boiling.\n",
    "<!-- --- end answer of exercise --- -->\n",
    "\n",
    "<!-- --- begin solution of exercise --- -->\n",
    "**Løsningsforslag.**"
   ]
  },
  {
   "cell_type": "code",
   "execution_count": 19,
   "id": "508da22c",
   "metadata": {},
   "outputs": [
    {
     "name": "stdout",
     "output_type": "stream",
     "text": [
      "3305.36 kjoules are needed to heat 10L of water from 21 degrees C to boiling.\n"
     ]
    }
   ],
   "source": [
    "# Start by finding the amount of degrees of heating required\n",
    "starting_temp = 21\n",
    "desired_temp = 100\n",
    "temp_diff = desired_temp - starting_temp\n",
    "\n",
    "# Define the amount of water and amount of joules in a kcal\n",
    "water_amount = 10\n",
    "joules_per_calorie = 4.184\n",
    "\n",
    "# Calculate kilojoules needed\n",
    "kjoules_needed = joules_per_calorie * water_amount * temp_diff\n",
    "\n",
    "print(str(kjoules_needed) + \" kjoules are needed to heat 10L of water from 21 degrees C to boiling.\")"
   ]
  },
  {
   "cell_type": "markdown",
   "id": "a8a5944a_9",
   "metadata": {
    "editable": false
   },
   "source": [
    "<!-- --- end solution of exercise --- -->"
   ]
  },
  {
   "cell_type": "markdown",
   "id": "d45553af",
   "metadata": {
    "editable": false
   },
   "source": [
    "**d)**\n",
    "What type of variable is your answer to the last exercise? Show how you found out.\n",
    "\n",
    "<!-- --- begin answer of exercise --- -->\n",
    "**Fasit.**\n",
    "The answer is of type `float` (because the 'joules per calorie' conversion results in a `float`).\n",
    "<!-- --- end answer of exercise --- -->\n",
    "\n",
    "<!-- --- begin solution of exercise --- -->\n",
    "**Løsningsforslag.**"
   ]
  },
  {
   "cell_type": "code",
   "execution_count": 20,
   "id": "97a17369",
   "metadata": {},
   "outputs": [
    {
     "name": "stdout",
     "output_type": "stream",
     "text": [
      "<class 'float'>\n"
     ]
    }
   ],
   "source": [
    "print(type(kjoules_needed))"
   ]
  },
  {
   "cell_type": "markdown",
   "id": "a8a5944a_10",
   "metadata": {
    "editable": false
   },
   "source": [
    "<!-- --- end solution of exercise --- -->"
   ]
  },
  {
   "cell_type": "markdown",
   "id": "ae14e14a",
   "metadata": {
    "editable": false
   },
   "source": [
    "### Part 2: Camels\n",
    "\n",
    "<!-- Copyright John O'Neill -->\n",
    "<!-- Licensed under Wikimedia Commons free media -->\n",
    "<!-- dom:FIGURE:[figures/camel.jpg, alt=\"A camel in the desert\", width=400, frac=0.4] -->\n",
    "<!-- begin figure -->\n",
    "\n",
    "<img src=\"figures/camel.jpg\" alt=\"A camel in the desert\" width=\"400\"><p style=\"font-size: 0.9em\"><i>Figur 1</i></p>\n",
    "<!-- end figure -->\n",
    "\n",
    "Contrary to popular belief, animals of the genus *camelus*, such as camels and dromedarys, do not carry volumes of water in the \"humps\" on their backs. Although it is indeed true that they can drink and store large amounts of water, and survive for a long time without drinking, camels deal with the heat in much more interesting ways than one might expect. Two important adaptations in camels in order to deal with heat are a large body with concentrated fatty deposits in the \"humps\", and a high tolerance for changes in body temperature. The fat acts as a buffer that soaks thermal energy, causing the temperature rise in the body as a whole to be quite slow; there is simply a lot of body to heat up! During cold desert nights, the effect is reversed and the body is cooled more slowly than in a smaller and leaner body. Allowing themselves to be heated also reduces the thermal gradient against the environment, and thus the heating slows as the camel's body temperature rises."
   ]
  },
  {
   "cell_type": "markdown",
   "id": "9dcf43da",
   "metadata": {
    "editable": false
   },
   "source": [
    "**e)**\n",
    "Assume that a camel with a mass of 470kg receives a net heat gain averaging 90 $\\frac{joules}{second}$ throughout a day lasting 13.5 hours. Our camel consists of 55% water, and we will assume that the water is the only thing that affects body temperature. The camel starts out in the morning at a body temperature of 35.5 degrees celsius. Write a python program that calculates the final body temperature at the end of the day, rounded to two decimals.\n",
    "\n",
    "<!-- --- begin answer of exercise --- -->\n",
    "**Fasit.**\n",
    "The final body temperature of the camel is 39.54 degrees celsius.\n",
    "<!-- --- end answer of exercise --- -->\n",
    "\n",
    "<!-- --- begin solution of exercise --- -->\n",
    "**Løsningsforslag.**\n",
    "We'll save intermediate results in variables so we can reuse them or\n",
    "print their content.\n",
    "\n",
    "We know that 1kcal heats 1000g of water by 1 degree celsius.\n",
    "\n",
    "We thus need to determine\n",
    "* the amount of kcal gained during the day\n",
    "\n",
    "* the amount of water that is being warmed\n",
    "\n",
    "We will first determine the total amount of energy the camel receives\n",
    "during the day. We know the heat gain is 90 $\\frac{joules}{second}$\n",
    "and a day lasts 13.5 hours. We need to convert these 13.5 hours to seconds:"
   ]
  },
  {
   "cell_type": "code",
   "execution_count": 21,
   "id": "344eff5b",
   "metadata": {},
   "outputs": [
    {
     "name": "stdout",
     "output_type": "stream",
     "text": [
      "A day lasts 48600.0 seconds\n"
     ]
    }
   ],
   "source": [
    "# 60 minutes in an hour and 60 seconds in a minute\n",
    "seconds = 13.5 * 60 * 60\n",
    "print(\"A day lasts\", seconds, \"seconds\")"
   ]
  },
  {
   "cell_type": "markdown",
   "id": "937a444e",
   "metadata": {
    "editable": false
   },
   "source": [
    "Then we can calculate the total energy gain in joules:"
   ]
  },
  {
   "cell_type": "code",
   "execution_count": 22,
   "id": "ac2d8922",
   "metadata": {},
   "outputs": [],
   "source": [
    "# total energy gain is 90 joules per second times number of seconds\n",
    "total_joules = 90 * seconds"
   ]
  },
  {
   "cell_type": "markdown",
   "id": "6aa58063",
   "metadata": {
    "editable": false
   },
   "source": [
    "We need to convert these joules to kcalories using the formula from earlier."
   ]
  },
  {
   "cell_type": "code",
   "execution_count": 23,
   "id": "4475c8f5",
   "metadata": {},
   "outputs": [
    {
     "name": "stdout",
     "output_type": "stream",
     "text": [
      "Total kilocalories gained: 1045.4110898661568\n"
     ]
    }
   ],
   "source": [
    "total_calories = total_joules/4.184\n",
    "total_kcalories = total_calories/1000\n",
    "print(\"Total kilocalories gained:\", total_kcalories)"
   ]
  },
  {
   "cell_type": "markdown",
   "id": "1318536f",
   "metadata": {
    "editable": false
   },
   "source": [
    "Now we can start answering our second question: how much water are we heating?\n",
    "The only thing being heated is the water content of the camel.\n",
    "Since 55% of the mass of the camel is water, we are heating 55% of 470 kg:"
   ]
  },
  {
   "cell_type": "code",
   "execution_count": 24,
   "id": "9279f74a",
   "metadata": {},
   "outputs": [
    {
     "name": "stdout",
     "output_type": "stream",
     "text": [
      "Total water mass being heated: 258.5\n"
     ]
    }
   ],
   "source": [
    "heatable_mass = (55/100) * 470\n",
    "print(\"Total water mass being heated:\", heatable_mass)"
   ]
  },
  {
   "cell_type": "markdown",
   "id": "92c7a924",
   "metadata": {
    "editable": false
   },
   "source": [
    "We can now start putting things together:\n",
    "* we know the amount of kcal gained during the day\n",
    "\n",
    "* we know the amount of water that is being warmed\n",
    "\n",
    "* we know that 1kcal heats 1 kg (1000g) of water by 1 degree celsius\n",
    "\n",
    "Note that the latter formula means that $x$ kcal gained by $y$ kg water\n",
    "leads to a $\\frac{x}{y}$ degrees celsius rise in temperature.\n",
    "Make sure understand this..."
   ]
  },
  {
   "cell_type": "code",
   "execution_count": 25,
   "id": "2d6108b4",
   "metadata": {},
   "outputs": [
    {
     "name": "stdout",
     "output_type": "stream",
     "text": [
      "The camel becomes 4.04414348110699 degrees warmer during the day.\n"
     ]
    }
   ],
   "source": [
    "total_temperature_rise = total_kcalories/heatable_mass\n",
    "print(\"The camel becomes\", total_temperature_rise, \"degrees warmer during the day.\")"
   ]
  },
  {
   "cell_type": "markdown",
   "id": "9fa5d07c",
   "metadata": {
    "editable": false
   },
   "source": [
    "With a starting temperature of 35.5 degrees celsius,\n",
    "the final body temperature of the camel can now be calculated.\n",
    "Let's round the temperature off here since we are at the end of our calculations:"
   ]
  },
  {
   "cell_type": "code",
   "execution_count": 26,
   "id": "01acece8",
   "metadata": {},
   "outputs": [
    {
     "name": "stdout",
     "output_type": "stream",
     "text": [
      "The final body temperature of the camel is 39.54 degrees celsius.\n"
     ]
    }
   ],
   "source": [
    "end_of_day_temperature = round(35.5 + total_temperature_rise, 2)\n",
    "print(\"The final body temperature of the camel is\", end_of_day_temperature, \"degrees celsius.\")"
   ]
  },
  {
   "cell_type": "markdown",
   "id": "e7465bd3",
   "metadata": {
    "editable": false
   },
   "source": [
    "All calculations gathered together into a single program:"
   ]
  },
  {
   "cell_type": "code",
   "execution_count": 27,
   "id": "06fad9df",
   "metadata": {},
   "outputs": [
    {
     "name": "stdout",
     "output_type": "stream",
     "text": [
      "The final body temperature of the camel is 39.54 degrees celsius.\n"
     ]
    }
   ],
   "source": [
    "seconds = 13.5 * 60 * 60\n",
    "total_joules = 90 * seconds\n",
    "total_calories = total_joules/4.184\n",
    "total_kcalories = total_calories/1000\n",
    "heatable_mass = (55/100) * 470\n",
    "total_temperature_rise = total_kcalories/heatable_mass\n",
    "end_of_day_temperature = round(35.5 + total_temperature_rise, 2)\n",
    "print(\"The final body temperature of the camel is\", end_of_day_temperature, \"degrees celsius.\")"
   ]
  },
  {
   "cell_type": "markdown",
   "id": "a8a5944a_11",
   "metadata": {
    "editable": false
   },
   "source": [
    "<!-- --- end solution of exercise --- -->"
   ]
  },
  {
   "cell_type": "markdown",
   "id": "9975a312",
   "metadata": {
    "editable": false
   },
   "source": [
    "**f)**\n",
    "If the fat storage in the camel's hump would reduce the heat gain by 50%, what would then be the final body temperature at the end of the day?\n",
    "\n",
    "<!-- --- begin answer of exercise --- -->\n",
    "**Fasit.**\n",
    "The final body temperature of the camel would then be 37.52 degrees celsius.\n",
    "<!-- --- end answer of exercise --- -->\n",
    "\n",
    "<!-- --- begin solution of exercise --- -->\n",
    "**Løsningsforslag.**"
   ]
  },
  {
   "cell_type": "code",
   "execution_count": 28,
   "id": "2f4e652f",
   "metadata": {},
   "outputs": [
    {
     "name": "stdout",
     "output_type": "stream",
     "text": [
      "The final body temperature of the camel is 37.52 degrees celsius.\n"
     ]
    }
   ],
   "source": [
    "# 50% of the heat gain is no longer going to the water\n",
    "total_temperature_rise = 0.5 * total_kcalories/heatable_mass\n",
    "end_of_day_temperature = round(35.5 + total_temperature_rise, 2)\n",
    "print(\"The final body temperature of the camel is\", end_of_day_temperature, \"degrees celsius.\")"
   ]
  },
  {
   "cell_type": "markdown",
   "id": "a8a5944a_12",
   "metadata": {
    "editable": false
   },
   "source": [
    "<!-- --- end solution of exercise --- -->"
   ]
  }
 ],
 "metadata": {
  "kernelspec": {
   "display_name": "Python 3 (ipykernel)",
   "language": "python",
   "name": "python3"
  },
  "language_info": {
   "codemirror_mode": {
    "name": "ipython",
    "version": 3
   },
   "file_extension": ".py",
   "mimetype": "text/x-python",
   "name": "python",
   "nbconvert_exporter": "python",
   "pygments_lexer": "ipython3",
   "version": "3.10.4"
  }
 },
 "nbformat": 4,
 "nbformat_minor": 5
}

{
 "cells": [
  {
   "cell_type": "markdown",
   "id": "9c079f44",
   "metadata": {
    "editable": true
   },
   "source": [
    "<!-- File automatically generated using DocOnce (https://github.com/doconce/doconce/):\n",
    "doconce format ipynb 35.samkoding-notebook.do.txt --userdef_environment_file=/Users/alexajo/github/bios1100-uke-for-uke/general/userdef_environments.py --skip_inline_comments --encoding=utf-8 --language=Norwegian --execute=abort --output=/Users/alexajo/github/bios1100-uke-for-uke/pub/35/35.samkoding.ipynb --execute -->\n",
    "\n",
    "# BIOS1100 H22 Samkoding\n",
    "\n",
    "Date: **Uke 35**\n",
    "\n",
    "</div>"
   ]
  },
  {
   "cell_type": "markdown",
   "id": "6cde92a8",
   "metadata": {
    "editable": true
   },
   "source": [
    "# Samkoding uke 35\n",
    "\n",
    "Til studentene: dette er 'oppskriften' til live-coding (samkoding) delen av gruppeundervisningen. Gruppelærere bruker denne noen ganger nøyaktig når de underviser, noen ganger avviker de fra den. Stoffet i notebooken ansees å være en del av pensum.\n",
    "\n",
    "Vi legger disse notebooks ut til dere for at dere kan studere stoffet på egenhånd, eventuelt sammen med podcast fra gruppetimene.\n",
    "\n",
    "Dette er en Jupyter Notebook, some betyr at all kode kan kjøres av dere, men i tillegg kan dere legge til kodeceller for å skrive deres egen kode. Brukt på denne måten kan det føre til økt læring!"
   ]
  },
  {
   "cell_type": "markdown",
   "id": "6700efd9",
   "metadata": {
    "editable": true
   },
   "source": [
    "------\n",
    "\n",
    "<div class=\"alert alert-block alert-warning\">\n",
    "Show slide(s):"
   ]
  },
  {
   "cell_type": "markdown",
   "id": "09e0be2b",
   "metadata": {
    "editable": true
   },
   "source": [
    "## Ukens samkoding\n",
    "\n",
    "* lister\n",
    "\n",
    "* plotting\n",
    "\n",
    "* lese data fra fil\n",
    "\n",
    "</div>\n",
    "\n",
    "------"
   ]
  },
  {
   "cell_type": "markdown",
   "id": "39967c26",
   "metadata": {
    "editable": true
   },
   "source": [
    "# Hva er lister i Python\n",
    "\n",
    "Så langt har alle vår variabler vi har brukt hatt en enkel verdi.\n",
    "Ofte har man en rekke verdier som henger sammen.\n",
    "For eksempel, i boken brukes data for bakteriell vekst:\n",
    "* en rekke med tall som tilsvarer tidspunkter `0, 30, 60, 90, ...`\n",
    "\n",
    "* en rekke med tall som tilsvarer antall bakterier for disse tidspunktene: `10010, 9951, 10042, 25587, ...`\n",
    "\n",
    "Når man har man en rekke verdier som henger sammen kan det være smart\n",
    "og samle de i en Python liste, en ny type variabel."
   ]
  },
  {
   "cell_type": "markdown",
   "id": "d6d42fb3",
   "metadata": {
    "editable": true
   },
   "source": [
    "### Hvorfor er det en fordel å bruke lister?\n",
    "\n",
    "* Du slipper å lage 100 variabler med navn som `person0`, `person1`, `person2`... `person99` ... `person100` ...\n",
    "\n",
    "* Du kan heller lage en liste som heter `personer` - hvert element i listen inneholder en av disse 100 eller 1000 elle 10000 verdiene - mye lettere å holde styr på\n",
    "\n",
    "* I tillegg: Hvis du vil gjøre noe med 100 elementer i en liste, slipper du å skrive samme utregning eller handling 100 ganger (tar lang tid og dessuten uoversiktelig for noen som skal lese koden)\n",
    "\n",
    "* Ved hjelp av noe som heter **løkker** (som vi lærer snart), vil du kunne skrive hva som skal gjøres én gang, så gjøres dette for alle elementene i en liste\n",
    "\n",
    "* Til slutt: lister gjør det enklere å plotte grafer, og **det** skal vi se på i dag.\n",
    "\n",
    "La oss lagre de første av disse to tallrekkene,\n",
    "dvs tidspunktene, i en Python liste med navn `t`:"
   ]
  },
  {
   "cell_type": "code",
   "execution_count": 2,
   "id": "9568412d",
   "metadata": {
    "collapsed": false,
    "editable": true
   },
   "outputs": [],
   "source": [
    "ts = [0, 15, 30, 45, 60, 75, 90, 105, 120]"
   ]
  },
  {
   "cell_type": "markdown",
   "id": "07314638",
   "metadata": {
    "editable": true
   },
   "source": [
    "<!--  -->\n",
    "Og så skriver vi ut listen vår:"
   ]
  },
  {
   "cell_type": "code",
   "execution_count": 3,
   "id": "6b10eeda",
   "metadata": {
    "collapsed": false,
    "editable": true
   },
   "outputs": [
    {
     "name": "stdout",
     "output_type": "stream",
     "text": [
      "[0, 15, 30, 45, 60, 75, 90, 105, 120]\n"
     ]
    }
   ],
   "source": [
    "print(ts)"
   ]
  },
  {
   "cell_type": "markdown",
   "id": "6e76e95c",
   "metadata": {
    "editable": true
   },
   "source": [
    "Verdt å merke seg her:\n",
    "\n",
    "* listen starter med `[` på venstre side, og ender med `]` på høyre. Disse heter firkantede parenteser, eller (firkantede) klammer ('square brackets' på engelsk)\n",
    "\n",
    "* på en MAC bruker man vanligvis 'alt + 8' og 'alt + 9' for å få firkantede klammer; på en Windows eller Linux PC er det 'AltGr + 8' og 'AltGr + 9'\n",
    "\n",
    "* elementene i listen, her alle tall, er separert med kommaer\n",
    "\n",
    "* det er et mellomrom etter hver komma, det behøves ikke men det foretrekkes for å gjøre det mer lesbart\n",
    "\n",
    "* samme med mellomrom rundt `=` tegnet: ikke nødvendig men brukes ofte\n",
    "\n",
    "* listen heter `t` men den kunne hatt et annet navn også, for eksempel `tid`, `tidspunkter`, `time` etc. Vi bruker `t` fordi det er nærmest den matematiske modellen som utvikles for bakterieveksten\n",
    "\n",
    "* når vi sette opp listen og kjører kodecellen ser vi ingen output samme som når vi setter opp en enkel variabel.\n",
    "\n",
    "Vi kan ha flere type elementer i en liste, f. eks her er en liste av strenger:"
   ]
  },
  {
   "cell_type": "code",
   "execution_count": 4,
   "id": "38563e1b",
   "metadata": {
    "collapsed": false,
    "editable": true
   },
   "outputs": [
    {
     "name": "stdout",
     "output_type": "stream",
     "text": [
      "['eple', 'pære', 'banan', 'bringebær']\n"
     ]
    }
   ],
   "source": [
    "frukter = [\"eple\", \"pære\", 'banan', \"bringebær\"]\n",
    "print(frukter)"
   ]
  },
  {
   "cell_type": "markdown",
   "id": "0c8ef33e",
   "metadata": {
    "editable": true
   },
   "source": [
    "Verdt å merke seg her:\n",
    "\n",
    "* hvert element er en streng, som vi kan se siden de er omringet av anførselstegn\n",
    "\n",
    "* det brukes både enkel `''` og dobbel `\"\"` anførselstegn, og det gjør ingenting så lenge samme type brukes på begge siden av en streng\n",
    "\n",
    "* når vi skriver ut listen bruker Python enkle anførselstegn\n",
    "\n",
    "Man kan også blande elementer av forskjellige typer i en og samme liste.\n",
    "For eksempel:"
   ]
  },
  {
   "cell_type": "code",
   "execution_count": 5,
   "id": "8a8c8587",
   "metadata": {
    "collapsed": false,
    "editable": true
   },
   "outputs": [
    {
     "name": "stdout",
     "output_type": "stream",
     "text": [
      "[31, 4.2, 9, 'hi!', 7]\n"
     ]
    }
   ],
   "source": [
    "min_liste = [31, 4.2, 9, \"hi!\", 7]\n",
    "print(min_liste)"
   ]
  },
  {
   "cell_type": "markdown",
   "id": "3b59b57b",
   "metadata": {
    "editable": true
   },
   "source": [
    "Her blandes heltall (integer), flyttal (float) og en streng.\n",
    "Merk at, selv om det er helt korrekt Python kode,\n",
    "er dette ikke så veldig vanlig.\n",
    "\n",
    "Lister kan brukes til å lagre store mengde data. Det er andre metoder som vi\n",
    "skal se på senere, men lister er den enkleste."
   ]
  },
  {
   "cell_type": "markdown",
   "id": "ad77366b",
   "metadata": {
    "editable": true
   },
   "source": [
    "# Skrive ut selekterte elementer fra en liste\n",
    "\n",
    "Hvert element i en liste er knyttet til en indeks,\n",
    "som representerer posisjonen, eller 'plassen', til elementet i listen.\n",
    "Det første elementet har indeks `0`, det andre elementet indeks `1`,\n",
    "den tredje indeksen `2`, og så videre:"
   ]
  },
  {
   "cell_type": "code",
   "execution_count": 6,
   "id": "9568412d_1",
   "metadata": {
    "collapsed": false,
    "editable": true
   },
   "outputs": [],
   "source": [
    "ts = [0, 15, 30, 45, 60, 75, 90, 105, 120]"
   ]
  },
  {
   "cell_type": "markdown",
   "id": "6e05a82a",
   "metadata": {
    "editable": true
   },
   "source": [
    "<div class=\"alert alert-block alert-info\">\n",
    "Pek på tallene og forklar indeksene\n",
    "</div>\n",
    "\n",
    "Det er viktig å merke seg at vi begynner å telle fra **0** i stedet for 1.\n",
    "Dette kalles *nullindeksering*.\n",
    "Nullindeksering er typisk for mange programmeringsspråk,\n",
    "men det er noen språk, som *Matlab* og *R*,\n",
    "som bruker en-indeksering, der det første elementet har indeks `1`.\n",
    "\n",
    "Grunnen til å bruke nullbasert indeksering er både historisk og teknisk,\n",
    "men for oss er det viktigste å godta konvensjonen,\n",
    "og huske det når vi skriver vår egen kode.\n",
    "\n",
    "An analogi er at når man er født, så er man\n",
    "* 0 år i hele sitt første leveår\n",
    "\n",
    "* 1 år i hele sitt andre leveår\n",
    "\n",
    "osv.\n",
    "\n",
    "For å få tilgang til elementet med indeks `i`, indekserer\n",
    "vi listen ved hjelp av firkantede parenteser,\n",
    "og sett indeksen `i` mellom dem, som `ts[i]`.\n",
    "\n",
    "Dette betyr at for å få tilgang til det andre elementet, skriver vi `ts[1]`:"
   ]
  },
  {
   "cell_type": "code",
   "execution_count": 7,
   "id": "57fe85dd",
   "metadata": {
    "collapsed": false,
    "editable": true
   },
   "outputs": [
    {
     "name": "stdout",
     "output_type": "stream",
     "text": [
      "15\n"
     ]
    }
   ],
   "source": [
    "print(ts[1])"
   ]
  },
  {
   "cell_type": "markdown",
   "id": "d9cef8e0",
   "metadata": {
    "editable": true
   },
   "source": [
    "<!--  -->\n",
    "La oss også skrive ut det første elementet, indeks `0`,\n",
    "og sjette element, indeks `5`:"
   ]
  },
  {
   "cell_type": "code",
   "execution_count": 8,
   "id": "ee75ec27",
   "metadata": {
    "collapsed": false,
    "editable": true
   },
   "outputs": [
    {
     "name": "stdout",
     "output_type": "stream",
     "text": [
      "0\n",
      "75\n"
     ]
    }
   ],
   "source": [
    "print(ts[0])\n",
    "print(ts[5])"
   ]
  },
  {
   "cell_type": "markdown",
   "id": "af72c851",
   "metadata": {
    "editable": true
   },
   "source": [
    "<div class=\"alert alert-block alert-warning\">\n",
    "Show slide(s):"
   ]
  },
  {
   "cell_type": "markdown",
   "id": "cf845f50",
   "metadata": {
    "editable": true
   },
   "source": [
    "## Oppgave 1: slicing\n",
    "\n",
    "Her er en liste med tidspunkter:"
   ]
  },
  {
   "cell_type": "code",
   "execution_count": 9,
   "id": "9568412d_2",
   "metadata": {
    "collapsed": false,
    "editable": true
   },
   "outputs": [],
   "source": [
    "ts = [0, 15, 30, 45, 60, 75, 90, 105, 120]"
   ]
  },
  {
   "cell_type": "markdown",
   "id": "97d2493a",
   "metadata": {
    "editable": true
   },
   "source": [
    "Hvilken Python kommando skriver disse elementene fra listen?\n",
    "* `30`\n",
    "\n",
    "* `105`\n",
    "\n",
    "* `0`\n",
    "\n",
    "</div>"
   ]
  },
  {
   "cell_type": "markdown",
   "id": "7475c5a2",
   "metadata": {
    "editable": true
   },
   "source": [
    "### Hent elementer med negative indekser\n",
    "\n",
    "Vi kan også bruke negative indekser for å få tilgang til elementer i en liste.\n",
    "I dette tilfellet teller indeksene fra *høyre* i stedet for venstre, slik at\n",
    "`ts[-1]` er det siste elementet i listen, `ts[-2]` er det nest siste\n",
    "elementet og så videre:"
   ]
  },
  {
   "cell_type": "code",
   "execution_count": 10,
   "id": "9568412d_3",
   "metadata": {
    "collapsed": false,
    "editable": true
   },
   "outputs": [],
   "source": [
    "ts = [0, 15, 30, 45, 60, 75, 90, 105, 120]"
   ]
  },
  {
   "cell_type": "markdown",
   "id": "963a172b",
   "metadata": {
    "editable": true
   },
   "source": [
    "<div class=\"alert alert-block alert-info\">\n",
    "Pek på tallene og forklar indeksene fra -1, -2 etc\n",
    "</div>"
   ]
  },
  {
   "cell_type": "code",
   "execution_count": 11,
   "id": "f1de360d",
   "metadata": {
    "collapsed": false,
    "editable": true
   },
   "outputs": [
    {
     "name": "stdout",
     "output_type": "stream",
     "text": [
      "120\n",
      "105\n"
     ]
    }
   ],
   "source": [
    "print(ts[-1])\n",
    "print(ts[-2])"
   ]
  },
  {
   "cell_type": "markdown",
   "id": "d91eae0d",
   "metadata": {
    "editable": true
   },
   "source": [
    "<div class=\"alert alert-block alert-warning\">\n",
    "Show slide(s):\n",
    "\n",
    "<!-- --- begin solution of exercise --- -->\n",
    "**Løsningsforslag.**"
   ]
  },
  {
   "cell_type": "code",
   "execution_count": 12,
   "id": "98b2c156",
   "metadata": {
    "collapsed": false,
    "editable": true
   },
   "outputs": [
    {
     "name": "stdout",
     "output_type": "stream",
     "text": [
      "30\n",
      "105\n",
      "0\n"
     ]
    }
   ],
   "source": [
    "print(ts[2])\n",
    "print(ts[7])\n",
    "print(ts[0])"
   ]
  },
  {
   "cell_type": "markdown",
   "id": "a8a5944a",
   "metadata": {
    "editable": true
   },
   "source": [
    "<!-- --- end solution of exercise --- -->"
   ]
  },
  {
   "cell_type": "markdown",
   "id": "c32154f0",
   "metadata": {
    "editable": true
   },
   "source": [
    "## Oppgave 2: Slicing with negative index\n",
    "\n",
    "Her er en liste med tidspunkter:"
   ]
  },
  {
   "cell_type": "code",
   "execution_count": 13,
   "id": "9568412d_4",
   "metadata": {
    "collapsed": false,
    "editable": true
   },
   "outputs": [],
   "source": [
    "ts = [0, 15, 30, 45, 60, 75, 90, 105, 120]"
   ]
  },
  {
   "cell_type": "markdown",
   "id": "008ea967",
   "metadata": {
    "editable": true
   },
   "source": [
    "Hvilken Python kommando skriver disse elementene fra listen\n",
    "når du bare kan bruke *negative* indekser?\n",
    "* `30`\n",
    "\n",
    "* `105`\n",
    "\n",
    "* `0`\n",
    "\n",
    "</div>"
   ]
  },
  {
   "cell_type": "markdown",
   "id": "4b07d606",
   "metadata": {
    "editable": true
   },
   "source": [
    "### Selektere flere elementer\n",
    "\n",
    "<div class=\"alert alert-block alert-info\">\n",
    "La studentene diskutere følgende oppgaven sammen før du viser det.\n",
    "</div>\n",
    "\n",
    "<div class=\"alert alert-block alert-warning\">\n",
    "Show slide(s):\n",
    "\n",
    "<!-- --- begin solution of exercise --- -->\n",
    "**Løsningsforslag.**"
   ]
  },
  {
   "cell_type": "code",
   "execution_count": 14,
   "id": "10550bf4",
   "metadata": {
    "collapsed": false,
    "editable": true
   },
   "outputs": [
    {
     "name": "stdout",
     "output_type": "stream",
     "text": [
      "30\n",
      "105\n",
      "0\n"
     ]
    }
   ],
   "source": [
    "print(ts[-7])\n",
    "print(ts[-2])\n",
    "print(ts[-9])"
   ]
  },
  {
   "cell_type": "markdown",
   "id": "a8a5944a_1",
   "metadata": {
    "editable": true
   },
   "source": [
    "<!-- --- end solution of exercise --- -->"
   ]
  },
  {
   "cell_type": "markdown",
   "id": "4e434ea5",
   "metadata": {
    "editable": true
   },
   "source": [
    "## Oppgave 3: Hva skjer?"
   ]
  },
  {
   "cell_type": "markdown",
   "id": "08c85620",
   "metadata": {
    "editable": true
   },
   "source": [
    "Diskuter med sidemann hva du tror følgende Python kode gjør:"
   ]
  },
  {
   "cell_type": "code",
   "execution_count": 15,
   "id": "cec89e0f",
   "metadata": {
    "collapsed": false,
    "editable": true
   },
   "outputs": [
    {
     "name": "stdout",
     "output_type": "stream",
     "text": [
      "[45, 60, 75, 90]\n"
     ]
    }
   ],
   "source": [
    "ts = [0, 15, 30, 45, 60, 75, 90, 105, 120]\n",
    "print(ts[3:7])"
   ]
  },
  {
   "cell_type": "markdown",
   "id": "cb3df7b5",
   "metadata": {
    "editable": true
   },
   "source": [
    "</div>\n",
    "\n",
    "Når vi slicer med to tall med kolon i mellom så får vi en delliste\n",
    "**fra og med første** indeks, **til** siste indeks, ikke til og med.\n",
    "\n",
    "<div class=\"alert alert-block alert-warning\">\n",
    "Show slide(s):"
   ]
  },
  {
   "cell_type": "markdown",
   "id": "6f7add58",
   "metadata": {
    "editable": true
   },
   "source": [
    "## Selektere flere elementer"
   ]
  },
  {
   "cell_type": "code",
   "execution_count": 16,
   "id": "c0007478",
   "metadata": {
    "collapsed": false,
    "editable": true
   },
   "outputs": [
    {
     "data": {
      "text/plain": [
       "[45, 60, 75, 90]"
      ]
     },
     "execution_count": 16,
     "metadata": {},
     "output_type": "execute_result"
    }
   ],
   "source": [
    "ts = [0, 15, 30, 45, 60, 75, 90, 105, 120]\n",
    "#    [0, 1,  2,  3,  4,  5,  6,  7,   8  ] \tIndices\n",
    "#               [3,  4,  5,  6]            [3:7]\n",
    "\n",
    "print(ts[3:7])"
   ]
  },
  {
   "cell_type": "markdown",
   "id": "13018c2e",
   "metadata": {
    "editable": true
   },
   "source": [
    "</div>\n",
    "\n",
    "Ved å ta bort det andre tallet kan vi skrive ut listen\n",
    "**fra og med** en indeks **til og med siste element**:"
   ]
  },
  {
   "cell_type": "code",
   "execution_count": 17,
   "id": "63b0e214",
   "metadata": {
    "collapsed": false,
    "editable": true
   },
   "outputs": [
    {
     "name": "stdout",
     "output_type": "stream",
     "text": [
      "[60, 75, 90, 105, 120]\n"
     ]
    }
   ],
   "source": [
    "ts = [0, 15, 30, 45, 60, 75, 90, 105, 120]\n",
    "print(ts[4:])"
   ]
  },
  {
   "cell_type": "markdown",
   "id": "404bd735",
   "metadata": {
    "editable": true
   },
   "source": [
    "Likeså, ved å ta bort det første tallet kan vi skrive ut listen\n",
    "fra begynnelsen **til** siste indeks:"
   ]
  },
  {
   "cell_type": "code",
   "execution_count": 18,
   "id": "a009eddd",
   "metadata": {
    "collapsed": false,
    "editable": true
   },
   "outputs": [
    {
     "name": "stdout",
     "output_type": "stream",
     "text": [
      "[0, 15, 30, 45]\n"
     ]
    }
   ],
   "source": [
    "ts = [0, 15, 30, 45, 60, 75, 90, 105, 120]\n",
    "print(ts[:4])"
   ]
  },
  {
   "cell_type": "markdown",
   "id": "af72c851_1",
   "metadata": {
    "editable": true
   },
   "source": [
    "<div class=\"alert alert-block alert-warning\">\n",
    "Show slide(s):"
   ]
  },
  {
   "cell_type": "markdown",
   "id": "81ef1579",
   "metadata": {
    "editable": true
   },
   "source": [
    "## Oppgave 4: Slicing"
   ]
  },
  {
   "cell_type": "markdown",
   "id": "9571fd5c",
   "metadata": {
    "editable": true
   },
   "source": [
    "**a)**\n",
    "* Alle rundt bordet lager sin egen Python liste med navnene fra alle rundt bordet i en tilfeldig rekkefølge\n",
    "\n",
    "* Den første studenten sier navnet sitt\n",
    "\n",
    "* Alle skal nå skrive ut det navnet fra sin liste med hjelp av list slicing\n",
    "\n",
    "Så sier neste student navnet sitt."
   ]
  },
  {
   "cell_type": "markdown",
   "id": "f6d5ac07",
   "metadata": {
    "editable": true
   },
   "source": [
    "**b)**\n",
    "* Klarer dere å skrive ut navnet til studenten og naboen til venstre samtidig?\n",
    "\n",
    "* eller begge naboer?\n",
    "\n",
    "</div>"
   ]
  },
  {
   "cell_type": "markdown",
   "id": "ede674fa",
   "metadata": {
    "editable": true
   },
   "source": [
    "### Utvide en liste med nye elementer\n",
    "\n",
    "La oss lage en ny liste med deres favorittdyr.\n",
    "\n",
    "<div class=\"alert alert-block alert-info\">\n",
    "Be et par studenter om dyrenavn til du har tre-fire dyr.\n",
    "Koden under er et eksempel.\n",
    "</div>"
   ]
  },
  {
   "cell_type": "code",
   "execution_count": 19,
   "id": "87a78089",
   "metadata": {
    "collapsed": false,
    "editable": true
   },
   "outputs": [
    {
     "name": "stdout",
     "output_type": "stream",
     "text": [
      "['katt', 'hund', 'fugl']\n"
     ]
    }
   ],
   "source": [
    "mine_dyr = ['katt', 'hund', 'fugl']\n",
    "print(mine_dyr)"
   ]
  },
  {
   "cell_type": "markdown",
   "id": "3435b435",
   "metadata": {
    "editable": true
   },
   "source": [
    "Vi har sikkert glemt noens dyr!\n",
    "\n",
    "<div class=\"alert alert-block alert-info\">\n",
    "Be en student om sitt favorittdyr.\n",
    "</div>\n",
    "\n",
    "For å utvide listen vår med det nye dyret bruker vi `append` funksjonen:"
   ]
  },
  {
   "cell_type": "code",
   "execution_count": 20,
   "id": "ca2e01a6",
   "metadata": {
    "collapsed": false,
    "editable": true
   },
   "outputs": [
    {
     "name": "stdout",
     "output_type": "stream",
     "text": [
      "['katt', 'hund', 'fugl', 'fisk']\n"
     ]
    }
   ],
   "source": [
    "mine_dyr.append('fisk')\n",
    "print(mine_dyr)"
   ]
  },
  {
   "cell_type": "markdown",
   "id": "ffc28088",
   "metadata": {
    "editable": true
   },
   "source": [
    "Ting å legge merke til:\n",
    "* `.append()` legges til bak listenavn\n",
    "\n",
    "* det som er i parentes er det nye elementet\n",
    "\n",
    "* vi kan bare legge til et element av gangen\n",
    "\n",
    "Syntaksen `N.copy()` er et eksempel på *dot notation*,\n",
    "hvor vi bruker en funksjon som tilhører et Python-element,\n",
    "(for eksempel lister og strenger),\n",
    "ved å skrive\n",
    "\n",
    "* variabelnavnet\n",
    "\n",
    "* en prikk ('dot' på engelsk)\n",
    "\n",
    "* og så navnet til funksjonen\n",
    "\n",
    "Funksjonen `.append()` kan ikke brukes selvstendig,\n",
    "den fungerer bare sammen med en liste.\n",
    "\n",
    "Vi kan også fjerne et element fra en liste.\n",
    "\n",
    "<div class=\"alert alert-block alert-info\">\n",
    "Be hvilket dyr som bør fjernes.\n",
    "</div>"
   ]
  },
  {
   "cell_type": "code",
   "execution_count": 21,
   "id": "90ac9a83",
   "metadata": {
    "collapsed": false,
    "editable": true
   },
   "outputs": [
    {
     "name": "stdout",
     "output_type": "stream",
     "text": [
      "['katt', 'hund', 'fugl']\n"
     ]
    }
   ],
   "source": [
    "del mine_dyr[3]\n",
    "print(mine_dyr)"
   ]
  },
  {
   "cell_type": "markdown",
   "id": "6b8d5992",
   "metadata": {
    "editable": true
   },
   "source": [
    "Ting å legge merke til:\n",
    "* `del` er en egen operasjon, men det som skal gjøres er ikke i parentes\n",
    "   som med funksjoner\n",
    "\n",
    "* vi trenger å vite indeksen til elementet som skal fjernes\n",
    "\n",
    "<div class=\"alert alert-block alert-warning\">\n",
    "Show slide(s):"
   ]
  },
  {
   "cell_type": "markdown",
   "id": "4615adbf",
   "metadata": {
    "editable": true
   },
   "source": [
    "## Funksjoner for lister\n",
    "\n",
    "Her er noen funksjoner som spiller fint på lag med lister:\n",
    "\n",
    "Gitt listen  `L = [4, 2, 10]`:\n",
    "\n",
    "<table class=\"dotable\" border=\"1\">\n",
    "<thead>\n",
    "<tr><th align=\"center\">  Syntaks  </th> <th align=\"center\">         Beskrivelse          </th> <th align=\"center\">  Resultat  </th> </tr>\n",
    "</thead>\n",
    "<tbody>\n",
    "<tr><td align=\"left\">   <code>len(L)</code>       </td> <td align=\"left\">   antall elementer i <code>L</code>            </td> <td align=\"center\">   <code>3</code>             </td> </tr>\n",
    "<tr><td align=\"left\">   <code>min(L)</code>       </td> <td align=\"left\">   Minste element i <code>L</code>              </td> <td align=\"center\">   <code>2</code>             </td> </tr>\n",
    "<tr><td align=\"left\">   <code>max(L)</code>       </td> <td align=\"left\">   Største element i <code>L</code>             </td> <td align=\"center\">   <code>10</code>            </td> </tr>\n",
    "<tr><td align=\"left\">   <code>sum(L)</code>       </td> <td align=\"left\">   Summen av alle elementer i <code>L</code>    </td> <td align=\"center\">   <code>16</code>            </td> </tr>\n",
    "<tr><td align=\"left\">   <code>sorted(L)</code>    </td> <td align=\"left\">   Sorterte verdiene i liste <code>L</code>     </td> <td align=\"center\">   <code>[2, 4, 10]</code>    </td> </tr>\n",
    "</tbody>\n",
    "</table>\n",
    "\n",
    "</div>"
   ]
  },
  {
   "cell_type": "markdown",
   "id": "0f4a5f22",
   "metadata": {
    "editable": true
   },
   "source": [
    "## Funksjoner for lister\n",
    "\n",
    "For `sorted(L)` er det viktig å vite at du trenger en ny variabel for å\n",
    "kunne bruken den sorterte listen:"
   ]
  },
  {
   "cell_type": "code",
   "execution_count": 22,
   "id": "d5de34a1",
   "metadata": {
    "collapsed": false,
    "editable": true
   },
   "outputs": [
    {
     "name": "stdout",
     "output_type": "stream",
     "text": [
      "[2, 4, 10]\n"
     ]
    }
   ],
   "source": [
    "L = [4, 2, 10]\n",
    "L_sortert = sorted(L)\n",
    "print(L_sortert)"
   ]
  },
  {
   "cell_type": "markdown",
   "id": "6cbe3a17",
   "metadata": {
    "editable": true
   },
   "source": [
    "### Plotte Insulin produksjonsdata\n",
    "\n",
    "I ekstra kapittelet beskrives et eksperiment der det måles insulin produksjon\n",
    "hos friske mennesker og overvektige. Her er dataene.\n",
    "\n",
    "<div class=\"alert alert-block alert-warning\">\n",
    "Show slide(s):"
   ]
  },
  {
   "cell_type": "markdown",
   "id": "0edd9be0",
   "metadata": {
    "editable": true
   },
   "source": [
    "## Insulin produksjonsdata\n",
    "<!-- dom:FIGURE: [figures/non-obese.png, width=400] -->\n",
    "<!-- begin figure -->\n",
    "\n",
    "<img src=\"figures/non-obese.png\" width=\"400\"><p style=\"font-size: 0.9em\"><i>Figur 1</i></p>\n",
    "<!-- end figure -->\n",
    "\n",
    "</div>\n",
    "\n",
    "Datene er insulin produksjon over tid. For detaljer, les kapittelet, disse dataene blir også brukt i gruppeundervisningen. Her brukes de til å lære om vislualisering av datasett i Python.\n",
    "\n",
    "For å visualisere dataene våre ved hjelp av Python,\n",
    "må vi først legge inn dataene i programmet vårt.\n",
    "Vi vil bruke *lister* for å lagre dataene våre.\n",
    "\n",
    "Vi har allerede listen `t` med tidspunktene:"
   ]
  },
  {
   "cell_type": "code",
   "execution_count": 23,
   "id": "bb66e702",
   "metadata": {
    "collapsed": false,
    "editable": true
   },
   "outputs": [
    {
     "name": "stdout",
     "output_type": "stream",
     "text": [
      "[0, 15, 30, 45, 60, 75, 90, 105, 120]\n"
     ]
    }
   ],
   "source": [
    "ts = [0, 15, 30, 45, 60, 75, 90, 105, 120]\n",
    "print(ts)"
   ]
  },
  {
   "cell_type": "markdown",
   "id": "fa88b975",
   "metadata": {
    "editable": true
   },
   "source": [
    "Vi legger til listen med insulin produksjonen, og kaller den `N`, for 'non-obese' (ikke-overvektige)."
   ]
  },
  {
   "cell_type": "code",
   "execution_count": 24,
   "id": "b1f0dd0a",
   "metadata": {
    "collapsed": false,
    "editable": true
   },
   "outputs": [],
   "source": [
    "Ns = [7.1, 7.2, 7.1, 10, 26.7, 43.3, 56.4, 56.8, 49.7]"
   ]
  },
  {
   "cell_type": "markdown",
   "id": "9d69d5af",
   "metadata": {
    "editable": true
   },
   "source": [
    "Når vi plotter disse to datasettene\n",
    "mot hverandre er det viktig at de har like mange punkter.\n",
    "Vi kan sjekke dette med `len()` funksjonen:"
   ]
  },
  {
   "cell_type": "code",
   "execution_count": 25,
   "id": "267c7e5d",
   "metadata": {
    "collapsed": false,
    "editable": true
   },
   "outputs": [
    {
     "name": "stdout",
     "output_type": "stream",
     "text": [
      "9\n",
      "9\n"
     ]
    }
   ],
   "source": [
    "print(len(ts))\n",
    "print(len(Ns))"
   ]
  },
  {
   "cell_type": "markdown",
   "id": "a7cf9b52",
   "metadata": {
    "editable": true
   },
   "source": [
    "Listene er like lange, så vi er klare for plotting!\n",
    "\n",
    "Python pakken vi bruker for å lage grafer\n",
    "er den av `pylab` pakken. Vi importer `pylab` slik:"
   ]
  },
  {
   "cell_type": "code",
   "execution_count": 26,
   "id": "b817b6c6",
   "metadata": {
    "collapsed": false,
    "editable": true
   },
   "outputs": [],
   "source": [
    "from pylab import *"
   ]
  },
  {
   "cell_type": "markdown",
   "id": "e5d21fcf",
   "metadata": {
    "editable": true
   },
   "source": [
    "Vi har nå tilgang til alt vi trenger\n",
    "for å plotte målinger av insulinsekresjonen `N`, mot tiden,` t`.\n",
    "For dette bruker vi kommandoen `plot (tplot(ts, Ns)`.\n",
    "Denne kommandoen plotter tid `t` på $x$ -aksen mot\n",
    "måling av insulinsekresjonen, `N`, på $y$ -aksen,\n",
    "og vi får en kurve som viser sekresjonsmåling over tid.\n",
    "\n",
    "Vi trenger alltid kalle funksjonen `show ()` for å sikre at plottet vises:"
   ]
  },
  {
   "cell_type": "code",
   "execution_count": 27,
   "id": "023025e3",
   "metadata": {
    "collapsed": false,
    "editable": true
   },
   "outputs": [
    {
     "data": {
      "image/png": "[encoded data removed]",
      "text/plain": [
       "<Figur size 432x288 with 1 Axes>"
      ]
     },
     "metadata": {
      "needs_background": "light"
     },
     "output_type": "display_data"
    }
   ],
   "source": [
    "from pylab import *\n",
    "plot(ts, Ns)\n",
    "show()"
   ]
  },
  {
   "cell_type": "markdown",
   "id": "64e4f7eb",
   "metadata": {
    "editable": true
   },
   "source": [
    "Verdt å merke seg her: `plot` funksjonen tar **to** argumenter: `t` og `N`.\n",
    "Senere skal vi legge til enda flere argumenter til `plot()` kommandoen\n",
    "for å endre plottet vårt.\n",
    "Vi kommer også til å se flere funksjoner i løpet av kurset som tar to eller flere\n",
    "argumenter.\n",
    "\n",
    "<div class=\"alert alert-block alert-info\">\n",
    "Huskeregelen for hvor x'ene og y'ene skal plasseres på grafen: \"y går mot sky\", den andre er \"x-aksen\"\n",
    "</div>\n",
    "\n",
    "Selv om vi har plottet dataene våre, er vi ikke ferdige.\n",
    "Plottet skal ha en tittel, i tillegg til forklarende navn på $x$ - og $y$ -aksene.\n",
    "Hvis aksen har enheter, bør disse også legges i parentes i etikettene.\n",
    "Dette for å gjøre plottet enklere å forstå.\n",
    "Tommelfingerregelen er at vi skal kunne forstå plottet uten\n",
    "tilleggsinformasjon.\n",
    "Alt dette blir enkelt lagt til etter kommandoen `plot()`,\n",
    "men før `show()`.\n",
    "Funksjonen `show()` må alltid være det siste vi kaller når vi gjør endringer\n",
    "til et plott, ellers ser vi ikke endringene."
   ]
  },
  {
   "cell_type": "code",
   "execution_count": 28,
   "id": "5eee6421",
   "metadata": {
    "collapsed": false,
    "editable": true
   },
   "outputs": [
    {
     "data": {
      "image/png": "[encoded data removed]",
      "text/plain": [
       "<Figur size 432x288 with 1 Axes>"
      ]
     },
     "metadata": {
      "needs_background": "light"
     },
     "output_type": "display_data"
    }
   ],
   "source": [
    "from pylab import *\n",
    "plot(ts, Ns)\n",
    "xlabel(\"Time, t (minutes)\")\n",
    "ylabel(\"concentration, insulin [microU/ml]\")\n",
    "show()"
   ]
  },
  {
   "cell_type": "markdown",
   "id": "0604c288",
   "metadata": {
    "editable": true
   },
   "source": [
    "Sekresjonen rapporteres som mikroenheter ('microunits') per milliliter.\n",
    "En 'enhet' her er standard 'enzymenhet'.\n",
    "Dette tiltaket er relatert til katalytisk aktivitet.\n",
    "\n",
    "Fra plottet ser vi at insulinproduksjonen er konstant for det første\n",
    "30 minutter og at det tar omtrent 45 minutter mellom å spise frokost\n",
    "og den første økningen i insulinproduksjon. Etter omtrent 90 minutter\n",
    "når sekresjonsnivåer et platå, noe som betyr at den ikke lenger øker."
   ]
  },
  {
   "cell_type": "markdown",
   "id": "2ef93dd2",
   "metadata": {
    "editable": true
   },
   "source": [
    "### Flere linjer i samme plott\n",
    "\n",
    "Å legge til en ny linje til plottet vårt gjøres ved å lagre det andre datasettet i en ny variabel `O`, for overvektige:"
   ]
  },
  {
   "cell_type": "code",
   "execution_count": 29,
   "id": "4470244a",
   "metadata": {
    "collapsed": false,
    "editable": true
   },
   "outputs": [],
   "source": [
    "Os = [18.4, 19.8, 18.4, 20.3, 63.3, 97.4, 120.2, 118.7, 121.0]"
   ]
  },
  {
   "cell_type": "markdown",
   "id": "27aec95c",
   "metadata": {
    "editable": true
   },
   "source": [
    "Vi plotter deretter det andre datasettet etter den første plottkommandoen."
   ]
  },
  {
   "cell_type": "code",
   "execution_count": 30,
   "id": "07bf2f7d",
   "metadata": {
    "collapsed": false,
    "editable": true
   },
   "outputs": [
    {
     "data": {
      "image/png": "[encoded data removed]",
      "text/plain": [
       "<Figur size 432x288 with 1 Axes>"
      ]
     },
     "metadata": {
      "needs_background": "light"
     },
     "output_type": "display_data"
    }
   ],
   "source": [
    "from pylab import *\n",
    "\n",
    "plot(ts, Ns)\n",
    "plot(ts, Os)\n",
    "xlabel(\"Time, t(minutes)\")\n",
    "ylabel(\"Insulin concentration [microU/ml]\")\n",
    "\n",
    "show()"
   ]
  },
  {
   "cell_type": "markdown",
   "id": "d3a8d243",
   "metadata": {
    "editable": true
   },
   "source": [
    "Vi ser at vi automatisk får en annen farge for den andre linjen.\n",
    "Vi bør alltid gi hver linje et forklarende navn\n",
    "når vi har mer enn en linje i plottet,\n",
    "så vi vet hvilken linje som er hvilken.\n",
    "Dette gjør vi ved å legge til et plottargument som følger:"
   ]
  },
  {
   "cell_type": "code",
   "execution_count": 31,
   "id": "bb0956e8",
   "metadata": {
    "collapsed": false,
    "editable": true
   },
   "outputs": [
    {
     "data": {
      "image/png": "[encoded data removed]",
      "text/plain": [
       "<Figur size 432x288 with 1 Axes>"
      ]
     },
     "metadata": {
      "needs_background": "light"
     },
     "output_type": "display_data"
    }
   ],
   "source": [
    "plot(ts, Ns, label = \"Non-obese subjects\")\n",
    "plot(ts, Os, label = \"Obese subjects\")\n",
    "legend()\n",
    "\n",
    "xlabel(\"Time, t(minutes)\")\n",
    "ylabel(\"Insulin concentration [microU/ml]\")\n",
    "\n",
    "show()"
   ]
  },
  {
   "cell_type": "markdown",
   "id": "ab887316",
   "metadata": {
    "editable": true
   },
   "source": [
    "Etter at vi har tegnet kurven, kaller vi funksjonen `legend()`\n",
    "for at tegnforklaringen skal vises.\n",
    "Det komplette programmet for å plotte begge datasettene\n",
    "med forklarende navn i samme plott er da:"
   ]
  },
  {
   "cell_type": "code",
   "execution_count": 32,
   "id": "de87b8c5",
   "metadata": {
    "collapsed": false,
    "editable": true
   },
   "outputs": [
    {
     "data": {
      "image/png": "[encoded data removed]",
      "text/plain": [
       "<Figur size 432x288 with 1 Axes>"
      ]
     },
     "metadata": {
      "needs_background": "light"
     },
     "output_type": "display_data"
    }
   ],
   "source": [
    "from pylab import *\n",
    "\n",
    "ts = [0, 15, 30, 45, 60, 75, 90, 105, 120]\n",
    "Os = [18.4, 19.8, 18.4, 20.3, 63.3, 97.4, 120.2, 118.7, 121.0]\n",
    "Ns = [7.1, 7.2, 7.1, 10, 26.7, 43.3, 56.4, 56.8, 49.7]\n",
    "\n",
    "plot(ts, Ns, label = \"Non-obese subjects\")\n",
    "plot(ts, Os, label = \"Obese subjects\")\n",
    "legend()\n",
    "\n",
    "xlabel(\"Time, t(minutes)\")\n",
    "ylabel(\"Insulin concentration [microU/ml]\")\n",
    "\n",
    "show()"
   ]
  },
  {
   "cell_type": "markdown",
   "id": "dacf0ec9",
   "metadata": {
    "editable": true
   },
   "source": [
    "### Stilelementer\n",
    "\n",
    "Vi har nå brukt de fargene som automatisk blir valgt.\n",
    "Men vi kan også endre dem.\n",
    "\n",
    "Dette gjøres i `plot` kommandoen som et ekstra argument.\n",
    "\n",
    "Hvis du for eksempel vil at den første linjen skal være grønn, legger vi til `\"g-\"` til plottkommandoen for den første kurven:\n",
    "\n",
    "`plot(ts, Ns, \"g-\", label = \"Non-obese subjects\")`.\n",
    "\n",
    "Hvis vi ønsker at den andre kurven skal bestå av blå sirkler, legger vi til `\"bo\"` til den andre plottkommandoen\n",
    "\n",
    "`plot(ts, Os, \"bo\", label = \"Obese subjects\")`.\n",
    "\n",
    "Her representerer `\"g-\"` en grønn (`g`) linje (`-`), mens `\"bo\"` ern en blå (`b`) sirkel (`o`).\n",
    "Disse stilelementene settes etter `x` and `y` men før `label` delen av `plot()` kommaondoet\n",
    "\n",
    "Vi plotter nå de to linjene igjen i samme figur sammen med etiketter og en legende:"
   ]
  },
  {
   "cell_type": "code",
   "execution_count": 33,
   "id": "e3f4674f",
   "metadata": {
    "collapsed": false,
    "editable": true
   },
   "outputs": [
    {
     "data": {
      "image/png": "[encoded data removed]",
      "text/plain": [
       "<Figur size 432x288 with 1 Axes>"
      ]
     },
     "metadata": {
      "needs_background": "light"
     },
     "output_type": "display_data"
    }
   ],
   "source": [
    "plot(ts, Ns, \"g-\", label = \"Non-obese subjects\")\n",
    "plot(ts, Os, \"bo\", label = \"Obese subjects\")\n",
    "\n",
    "xlabel(\"Time, t [minutes]\")\n",
    "ylabel(\"Insulin secretion, C [microU/ml]\")\n",
    "title(\"Measured insulin secretion\")\n",
    "legend()\n",
    "show()"
   ]
  },
  {
   "cell_type": "markdown",
   "id": "1c4df627",
   "metadata": {
    "editable": true
   },
   "source": [
    "Det er flere forskjellige stilalternativer tilgjengelig for plotting:\n",
    "\n",
    "<div class=\"alert alert-block alert-warning\">\n",
    "Show slide(s):"
   ]
  },
  {
   "cell_type": "markdown",
   "id": "f9655537",
   "metadata": {
    "editable": true
   },
   "source": [
    "## Plotting: colors and line styles\n",
    "<!-- dom:FIGURE: [figures/matplotlib_colors.png, width=500] -->\n",
    "<!-- begin figure -->\n",
    "\n",
    "<img src=\"figures/matplotlib_colors.png\" width=\"500\"><p style=\"font-size: 0.9em\"><i>Figur 1</i></p>\n",
    "<!-- end figure -->\n",
    "\n",
    "<!-- dom:FIGURE: [figures/matplotlib_lines.png, width=500] -->\n",
    "<!-- begin figure -->\n",
    "\n",
    "<img src=\"figures/matplotlib_lines.png\" width=\"500\"><p style=\"font-size: 0.9em\"><i>Figur 1</i></p>\n",
    "<!-- end figure -->\n",
    "\n",
    "<!-- dom:FIGURE: [figures/matplotlib_markers.png, width=500] -->\n",
    "<!-- begin figure -->\n",
    "\n",
    "<img src=\"figures/matplotlib_markers.png\" width=\"500\"><p style=\"font-size: 0.9em\"><i>Figur 1</i></p>\n",
    "<!-- end figure -->\n",
    "\n",
    "</div>\n",
    "\n",
    "<div class=\"alert alert-block alert-info\">\n",
    "Hvis studenter plottekomandoer i Cheat Sheet for BIOS1100, som ligger på Canvas.\n",
    "</div>\n",
    "\n",
    "En mer logisk kombinasjon vil være linjer for begge datasettene, men med forskjellige farger for datapunktene:"
   ]
  },
  {
   "cell_type": "code",
   "execution_count": 34,
   "id": "8fbff2be",
   "metadata": {
    "collapsed": false,
    "editable": true
   },
   "outputs": [
    {
     "data": {
      "image/png": "[encoded data removed]",
      "text/plain": [
       "<Figur size 432x288 with 1 Axes>"
      ]
     },
     "metadata": {
      "needs_background": "light"
     },
     "output_type": "display_data"
    }
   ],
   "source": [
    "plot(ts, Ns, \"g-\", label = \"Non-obese subjects\")\n",
    "plot(ts, Os, \"b-\", label = \"Obese subjects\")\n",
    "\n",
    "xlabel(\"Time, t [minutes]\")\n",
    "ylabel(\"Insulin secretion, C [microU/ml]\")\n",
    "title(\"Measured insulin secretion\")\n",
    "legend()\n",
    "show()"
   ]
  },
  {
   "cell_type": "markdown",
   "id": "4e61bae3",
   "metadata": {
    "editable": true
   },
   "source": [
    "### Lagre plottet i en fil\n",
    "\n",
    "Noen ganger ønsker vi å kunne bruke plottet i andre dokumenter.\n",
    "Da trenger vi å lagre det i en fil.\n",
    "Vi kan bruke forskjellige formater men viser her hvordan man får et plott\n",
    "lagret from `png` fil.\n",
    "\n",
    "Dette gjøres med hjelp av `savefig(\"filename.png\")` kommandoen.\n",
    "Filen havner i samme mappen som notebooken din.\n",
    "\n",
    "I vårt tilfelle kunne vi for eksempel brukt\n",
    "`savefig(\"insulin_secretion.png\")`.\n",
    "Dette kommandoen må legges *før* `show()` kommandoen.\n",
    "\n",
    "<div class=\"alert alert-block alert-info\">\n",
    "Vis hvordan man kan se på figuren i Jupyter Notebook og hvordan den kan lastes ned til egen laptop om ønskelig.\n",
    "</div>\n",
    "\n",
    "De to datasettene er klart forskjellige,\n",
    "noe som illustrerer effekten av overvekt på insulinsekresjon i beta-celler\n",
    "sammenlignet med beta-celler fra ikke-overvektige personer.\n",
    "\n",
    "I ekstrakapittelet blir det forklart litt mer om hvor denne forskjellen kommer fra."
   ]
  },
  {
   "cell_type": "markdown",
   "id": "3e92a46a",
   "metadata": {
    "editable": true
   },
   "source": [
    "### Lese data fra fil med pandas\n",
    "\n",
    "Datasettet beskrevet i ekstrakapittelet viser faktisk insulin sekresjon for\n",
    "17 timer.\n",
    "17 timer er 68 kvarter.\n",
    "Vi har ikke lyst å lage to lister med 68 tall for hånd.\n",
    "\n",
    "Dataene finnes i en fil av i `.csv`, 'Comma Separated Values' format\n",
    "og ser slik ut:\n",
    "\n",
    "<div class=\"alert alert-block alert-info\">\n",
    "Vis insulin_prod_all.csv filen i Jupyter Notebook\n",
    "</div>\n",
    "\n",
    "For å lese inn dataene bruker vi en Python pakke som heter Pandas.\n",
    "Pandas har funksjonen `pandas.read_csv()` for å lese `.csv` filer:"
   ]
  },
  {
   "cell_type": "code",
   "execution_count": 35,
   "id": "45e151da",
   "metadata": {
    "collapsed": false,
    "editable": true
   },
   "outputs": [
    {
     "name": "stdout",
     "output_type": "stream",
     "text": [
      "    minutes  non-obese  obese\n",
      "0         0        7.1   18.4\n",
      "1        15        7.2   19.8\n",
      "2        30        7.1   18.4\n",
      "3        45       10.0   20.3\n",
      "4        60       26.7   63.3\n",
      "..      ...        ...    ...\n",
      "64      960        7.6   17.7\n",
      "65      975        7.7   17.9\n",
      "66      990        7.5   17.8\n",
      "67     1005        7.4   18.0\n",
      "68     1020        7.2   17.8\n",
      "\n",
      "[69 rows x 3 columns]\n"
     ]
    }
   ],
   "source": [
    "import pandas\n",
    "data = pandas.read_csv(\"insulin_prod_all.csv\")\n",
    "print(data)"
   ]
  },
  {
   "cell_type": "markdown",
   "id": "87993fa2",
   "metadata": {
    "editable": true
   },
   "source": [
    "Dette laster inn innholdet i `.csv` filen i en variabel\n",
    "`data` og skriver ut innholdet til skjermen\n",
    "\n",
    "I notebook kan du også droppe `print()`:"
   ]
  },
  {
   "cell_type": "code",
   "execution_count": 36,
   "id": "f4739673",
   "metadata": {
    "collapsed": false,
    "editable": true
   },
   "outputs": [
    {
     "data": {
      "text/html": [
       "<div>\n",
       "<style scoped>\n",
       "    .dataframe tbody tr th:only-of-type {\n",
       "        vertical-align: middle;\n",
       "    }\n",
       "\n",
       "    .dataframe tbody tr th {\n",
       "        vertical-align: top;\n",
       "    }\n",
       "\n",
       "    .dataframe thead th {\n",
       "        text-align: right;\n",
       "    }\n",
       "</style>\n",
       "<table border=\"1\" class=\"dataframe\">\n",
       "  <thead>\n",
       "    <tr style=\"text-align: right;\">\n",
       "      <th></th>\n",
       "      <th>minutes</th>\n",
       "      <th>non-obese</th>\n",
       "      <th>obese</th>\n",
       "    </tr>\n",
       "  </thead>\n",
       "  <tbody>\n",
       "    <tr>\n",
       "      <th>0</th>\n",
       "      <td>0</td>\n",
       "      <td>7.1</td>\n",
       "      <td>18.4</td>\n",
       "    </tr>\n",
       "    <tr>\n",
       "      <th>1</th>\n",
       "      <td>15</td>\n",
       "      <td>7.2</td>\n",
       "      <td>19.8</td>\n",
       "    </tr>\n",
       "    <tr>\n",
       "      <th>2</th>\n",
       "      <td>30</td>\n",
       "      <td>7.1</td>\n",
       "      <td>18.4</td>\n",
       "    </tr>\n",
       "    <tr>\n",
       "      <th>3</th>\n",
       "      <td>45</td>\n",
       "      <td>10.0</td>\n",
       "      <td>20.3</td>\n",
       "    </tr>\n",
       "    <tr>\n",
       "      <th>4</th>\n",
       "      <td>60</td>\n",
       "      <td>26.7</td>\n",
       "      <td>63.3</td>\n",
       "    </tr>\n",
       "    <tr>\n",
       "      <th>...</th>\n",
       "      <td>...</td>\n",
       "      <td>...</td>\n",
       "      <td>...</td>\n",
       "    </tr>\n",
       "    <tr>\n",
       "      <th>64</th>\n",
       "      <td>960</td>\n",
       "      <td>7.6</td>\n",
       "      <td>17.7</td>\n",
       "    </tr>\n",
       "    <tr>\n",
       "      <th>65</th>\n",
       "      <td>975</td>\n",
       "      <td>7.7</td>\n",
       "      <td>17.9</td>\n",
       "    </tr>\n",
       "    <tr>\n",
       "      <th>66</th>\n",
       "      <td>990</td>\n",
       "      <td>7.5</td>\n",
       "      <td>17.8</td>\n",
       "    </tr>\n",
       "    <tr>\n",
       "      <th>67</th>\n",
       "      <td>1005</td>\n",
       "      <td>7.4</td>\n",
       "      <td>18.0</td>\n",
       "    </tr>\n",
       "    <tr>\n",
       "      <th>68</th>\n",
       "      <td>1020</td>\n",
       "      <td>7.2</td>\n",
       "      <td>17.8</td>\n",
       "    </tr>\n",
       "  </tbody>\n",
       "</table>\n",
       "<p>69 rows × 3 columns</p>\n",
       "</div>"
      ],
      "text/plain": [
       "    minutes  non-obese  obese\n",
       "0         0        7.1   18.4\n",
       "1        15        7.2   19.8\n",
       "2        30        7.1   18.4\n",
       "3        45       10.0   20.3\n",
       "4        60       26.7   63.3\n",
       "..      ...        ...    ...\n",
       "64      960        7.6   17.7\n",
       "65      975        7.7   17.9\n",
       "66      990        7.5   17.8\n",
       "67     1005        7.4   18.0\n",
       "68     1020        7.2   17.8\n",
       "\n",
       "[69 rows x 3 columns]"
      ]
     },
     "execution_count": 36,
     "metadata": {},
     "output_type": "execute_result"
    }
   ],
   "source": [
    "data"
   ]
  },
  {
   "cell_type": "markdown",
   "id": "c5fcb330",
   "metadata": {
    "editable": true
   },
   "source": [
    "Vi ønsker å lage tre lister for dataene, en for tid, og en for hver\n",
    "insulinsekresjonsdatasett\n",
    "\n",
    "For å trekke ut en kolonne kan vi gjøre"
   ]
  },
  {
   "cell_type": "code",
   "execution_count": 37,
   "id": "0f90daa3",
   "metadata": {
    "collapsed": false,
    "editable": true
   },
   "outputs": [
    {
     "name": "stdout",
     "output_type": "stream",
     "text": [
      "[7.1, 7.2, 7.1, 10.0, 26.7, 43.3, 56.4, 56.8, 49.7, 42.0, 42.3, 32.2, 19.5, 11.0, 7.4, 23.7, 59.8, 58.3, 56.7, 42.4, 40.7, 32.0, 25.4, 25.7, 18.8, 11.6, 10.3, 8.1, 16.4, 38.9, 44.2, 40.4, 28.7, 28.1, 27.5, 27.1, 25.5, 20.0, 15.8, 13.6, 12.7, 12.2, 11.9, 11.4, 11.1, 10.8, 10.7, 9.9, 9.3, 9.0, 8.8, 8.7, 8.6, 8.6, 8.5, 8.9, 8.6, 8.3, 8.0, 7.8, 7.8, 7.7, 7.6, 7.6, 7.6, 7.7, 7.5, 7.4, 7.2]\n"
     ]
    }
   ],
   "source": [
    "print(list(data[\"non-obese\"]))"
   ]
  },
  {
   "cell_type": "markdown",
   "id": "547259c7",
   "metadata": {
    "editable": true
   },
   "source": [
    "Merk:\n",
    "* `data[\"non-obese\"]` er kolonnen for sekresjon for ikke overvektige personer\n",
    "\n",
    "* kolonne navnet \"non-obese\" er i parentes inn i firkante klammer etter variabel navnet `data`\n",
    "\n",
    "* vi kommer til å denne måten å få tilgang til data på oftere senere i kurset\n",
    "\n",
    "* `list(data[\"non-obese\"])` konverterer dette til en vanlig Python liste\n",
    "\n",
    "Nå kan vi lage en egen variabel for dataene i denne kolonnen.\n",
    "La oss fortsatt bruke `N` men skille denne listen fra den forrige,\n",
    "som bare hadde de første timene, og kalle den `Ns_all`."
   ]
  },
  {
   "cell_type": "code",
   "execution_count": 38,
   "id": "8356ea84",
   "metadata": {
    "collapsed": false,
    "editable": true
   },
   "outputs": [
    {
     "name": "stdout",
     "output_type": "stream",
     "text": [
      "[7.1, 7.2, 7.1, 10.0, 26.7, 43.3, 56.4, 56.8, 49.7, 42.0, 42.3, 32.2, 19.5, 11.0, 7.4, 23.7, 59.8, 58.3, 56.7, 42.4, 40.7, 32.0, 25.4, 25.7, 18.8, 11.6, 10.3, 8.1, 16.4, 38.9, 44.2, 40.4, 28.7, 28.1, 27.5, 27.1, 25.5, 20.0, 15.8, 13.6, 12.7, 12.2, 11.9, 11.4, 11.1, 10.8, 10.7, 9.9, 9.3, 9.0, 8.8, 8.7, 8.6, 8.6, 8.5, 8.9, 8.6, 8.3, 8.0, 7.8, 7.8, 7.7, 7.6, 7.6, 7.6, 7.7, 7.5, 7.4, 7.2]\n"
     ]
    }
   ],
   "source": [
    "Ns_all = list(data[\"non-obese\"])\n",
    "print(Ns_all)"
   ]
  },
  {
   "cell_type": "code",
   "execution_count": 39,
   "id": "b28c415c",
   "metadata": {
    "collapsed": false,
    "editable": true
   },
   "outputs": [
    {
     "name": "stdout",
     "output_type": "stream",
     "text": [
      "Time: [0, 15, 30, 45, 60, 75, 90, 105, 120, 135, 150, 165, 180, 195, 210, 225, 240, 255, 270, 285, 300, 315, 330, 345, 360, 375, 390, 405, 420, 435, 450, 465, 480, 495, 510, 525, 540, 555, 570, 585, 600, 615, 630, 645, 660, 675, 690, 705, 720, 735, 750, 765, 780, 795, 810, 825, 840, 855, 870, 885, 900, 915, 930, 945, 960, 975, 990, 1005, 1020]\n",
      "Non-obese: [7.1, 7.2, 7.1, 10.0, 26.7, 43.3, 56.4, 56.8, 49.7, 42.0, 42.3, 32.2, 19.5, 11.0, 7.4, 23.7, 59.8, 58.3, 56.7, 42.4, 40.7, 32.0, 25.4, 25.7, 18.8, 11.6, 10.3, 8.1, 16.4, 38.9, 44.2, 40.4, 28.7, 28.1, 27.5, 27.1, 25.5, 20.0, 15.8, 13.6, 12.7, 12.2, 11.9, 11.4, 11.1, 10.8, 10.7, 9.9, 9.3, 9.0, 8.8, 8.7, 8.6, 8.6, 8.5, 8.9, 8.6, 8.3, 8.0, 7.8, 7.8, 7.7, 7.6, 7.6, 7.6, 7.7, 7.5, 7.4, 7.2]\n",
      "Obese: [18.4, 19.8, 18.4, 20.3, 63.3, 97.4, 120.2, 118.7, 121.0, 98.7, 73.6, 60.5, 44.7, 45.8, 62.3, 97.8, 123.7, 118.8, 112.0, 116.7, 99.2, 80.4, 64.2, 61.8, 59.8, 56.1, 43.6, 43.3, 62.0, 99.2, 122.5, 119.8, 99.0, 99.8, 96.9, 92.2, 80.2, 67.7, 53.3, 47.6, 38.7, 40.1, 36.4, 31.5, 27.8, 23.2, 24.1, 20.7, 20.4, 21.2, 19.3, 19.8, 18.4, 19.2, 18.0, 17.8, 17.6, 17.7, 18.0, 17.9, 17.8, 18.0, 17.8, 17.6, 17.7, 17.9, 17.8, 18.0, 17.8]\n"
     ]
    }
   ],
   "source": [
    "ts_all = list(data[\"minutes\"])\n",
    "Ns_all = list(data[\"non-obese\"])\n",
    "Os_all = list(data[\"obese\"])\n",
    "print(\"Time:\", ts_all)\n",
    "print(\"Non-obese:\", Ns_all)\n",
    "print(\"Obese:\", Os_all)"
   ]
  },
  {
   "cell_type": "markdown",
   "id": "45efc590",
   "metadata": {
    "editable": true
   },
   "source": [
    "Nå kan vi kombinere dette med `plot()` funksjonen\n",
    "for å lage en graf av alle sekresjonsdata:"
   ]
  },
  {
   "cell_type": "code",
   "execution_count": 40,
   "id": "1a81d81f",
   "metadata": {
    "collapsed": false,
    "editable": true
   },
   "outputs": [
    {
     "data": {
      "image/png": "[encoded data removed]",
      "text/plain": [
       "<Figur size 432x288 with 1 Axes>"
      ]
     },
     "metadata": {
      "needs_background": "light"
     },
     "output_type": "display_data"
    }
   ],
   "source": [
    "from pylab import *\n",
    "\n",
    "ts_all = list(data[\"minutes\"])\n",
    "Ns_all = list(data[\"non-obese\"])\n",
    "Os_all = list(data[\"obese\"])\n",
    "\n",
    "plot(ts_all, Ns_all, \"g-\", label = \"non-obese subjects\")\n",
    "plot(ts_all, Os_all, \"b-\", label = \"obese subjects\")\n",
    "xlabel(\"Time, t [minutes]\")\n",
    "ylabel(\"Insulin secretion, C [microU/ml]\")\n",
    "title(\"Measured insulin secretion over 24 hours\")\n",
    "legend()\n",
    "show()"
   ]
  },
  {
   "cell_type": "markdown",
   "id": "dc751fa1",
   "metadata": {
    "editable": true
   },
   "source": [
    "<!-- summary slides -->\n",
    "<div class=\"alert alert-block alert-warning\">\n",
    "Show slide(s):"
   ]
  },
  {
   "cell_type": "markdown",
   "id": "fc303fea",
   "metadata": {
    "editable": true
   },
   "source": [
    "## Navngitte kodeelementer: lese data fra fil med pandas\n",
    "\n",
    "1. laste inn data med `pandas`\n",
    "\n",
    "2. gjør kolonner om til lister\n",
    "\n",
    "3. eventuelt: plotting av resultater\n",
    "\n",
    "</div>\n",
    "\n",
    "<div class=\"alert alert-block alert-warning\">"
   ]
  },
  {
   "cell_type": "markdown",
   "id": "f513b632",
   "metadata": {
    "editable": true
   },
   "source": [
    "## Navngitte kodeelementer: lese data fra fil med pandas\n",
    "\n",
    "file `file.csv`"
   ]
  },
  {
   "cell_type": "markdown",
   "id": "6f568d06",
   "metadata": {
    "editable": true
   },
   "source": [
    "        x1,x2\n",
    "        0,10\n",
    "        1,15\n",
    "        2,20\n",
    "        ...\n"
   ]
  },
  {
   "cell_type": "code",
   "execution_count": 41,
   "id": "60fc6492",
   "metadata": {
    "collapsed": false,
    "editable": true
   },
   "outputs": [],
   "source": [
    "import pandas\n",
    "data = pandas.read_csv(\"file.csv\")\n",
    "x1 = list(data[\"x1\"])\n",
    "x2 = list(data[\"x2\"])\n",
    "plot(x1, x2)"
   ]
  },
  {
   "cell_type": "markdown",
   "id": "3a7e0531",
   "metadata": {
    "editable": true
   },
   "source": [
    "</div>"
   ]
  },
  {
   "cell_type": "markdown",
   "id": "b3a016f6",
   "metadata": {
    "editable": true
   },
   "source": [
    "# Ekstra oppgaver\n",
    "\n",
    "Om det er tid igjen kan studentene jobbe med øvelsesoppgaver for kapittel 2 som ligger på [Canvas](https://uio.instructure.com/courses/39661/pages/ekstra-ovelser)."
   ]
  }
 ],
 "metadata": {},
 "nbformat": 4,
 "nbformat_minor": 5
}

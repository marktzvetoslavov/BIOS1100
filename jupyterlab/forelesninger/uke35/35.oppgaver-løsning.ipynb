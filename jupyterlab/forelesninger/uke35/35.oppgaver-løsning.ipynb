{
 "cells": [
  {
   "cell_type": "markdown",
   "id": "8ff64533",
   "metadata": {
    "editable": false
   },
   "source": [
    "<!-- File automatically generated using DocOnce (https://github.com/doconce/doconce/):\n",
    "doconce format ipynb tmp_mako__35.oppgaver.do.txt --userdef_environment_file=/Users/alexajo/github/bios1100-uke-for-uke/general/userdef_environments.py --skip_inline_comments --encoding=utf-8 --language=Norwegian --ipynb_non_editable_text --execute=abort --output=/Users/alexajo/github/bios1100-uke-for-uke/pub/35/35.oppgaver-løsning.ipynb --execute -->\n",
    "\n",
    "# BIOS1100 H22 oppgaver uke 35 - løsningsforslag"
   ]
  },
  {
   "cell_type": "markdown",
   "id": "c2ccbe4c",
   "metadata": {
    "editable": false
   },
   "source": [
    "## Oppgave 1: Covid-19 utbruddet i Norge\n",
    "\n",
    "Den 21. februar 2020 ble det første tilfelle av covid-19 påvist i Norge.\n",
    "Den 13. mars 'stengte Norge' for å begrense smitten.\n",
    "I denne øvelsen skal rekreere grafene fra [Folkehelsets sider om covid-19 i Norge](https://bit.ly/fhi_covid19)."
   ]
  },
  {
   "cell_type": "markdown",
   "id": "40b86e4e",
   "metadata": {
    "editable": false
   },
   "source": [
    "**a)**\n",
    "Se på grafen 'Antall meldte covid-19 tilfeller etter prøvetakingsdato'.\n",
    "Vi skal laste ned disse dataene, og lage vår egen plott av dem.\n",
    "* På høyre siden av figuren 'Antall meldte covid-19 tilfeller etter prøvetakingsdato' ser du tre linjer\n",
    "\n",
    "* Klikk på disse og velg 'last ned csv'. Dette fører til at du får en fil `antall-meldte-covid-19-t.csv` på din datamaskin\n",
    "\n",
    "* Finn denne filen på din maskin, den ligger sannsynligvis i mappen 'Nedlastinger' ('Downloads')\n",
    "\n",
    "* Last opp denne `csv` filen til Jupyterhub som beskrevet på siden om 'Jupyter Notebook og JupyterHub' på Canvas, under 'Laste opp notebooks og filer til JupyterHub'\n",
    "\n",
    "  * OBS legg filen *i ukens mappe*, ellers er den ikke tilgjengelig i notebooken du åpnet der!\n",
    "\n",
    "Be om hjelp fra gruppelærere om du sitter fast!"
   ]
  },
  {
   "cell_type": "markdown",
   "id": "b73b4091",
   "metadata": {
    "editable": false
   },
   "source": [
    "**b)**\n",
    "Neste steg er å laste inn dataene i Python for å kunne plotte dem.\n",
    "Vi bruker `pandas` pakken til det på samme måten som i kursboken for\n",
    "bakteriell vekst data\n",
    "* importer pandas pakken\n",
    "\n",
    "* importer dataene med i en variabel kalt `tilfeller` hjelp av `pandas.read_csv()`\n",
    "\n",
    "* sjekk at dataene er lastet inn ved å 'printe' dem til notebook\n",
    "\n",
    "* konverter til lister med hjelp av `list(tilfeller['____'])`\n",
    "\n",
    "OBS sjekk csv filen du har lastet opp til JupyterHub. Den skal ha komma mellom kolonnene:"
   ]
  },
  {
   "cell_type": "markdown",
   "id": "52b42654",
   "metadata": {
    "editable": false
   },
   "source": [
    "```Python\n",
    "        \"Dato\",\"Kumulativt antall\",\"Nye tilfeller\"\n",
    "        \"21.02.2020\",1,1\n",
    "        \"22.02.2020\",1,0\n",
    "```"
   ]
  },
  {
   "cell_type": "markdown",
   "id": "f57cb393",
   "metadata": {
    "editable": false
   },
   "source": [
    "Det kan hende din fil har semikolon i stedet for kolon:"
   ]
  },
  {
   "cell_type": "markdown",
   "id": "ccc8d707",
   "metadata": {
    "editable": false
   },
   "source": [
    "```Python\n",
    "        \"Dato\";\"Kumulativt antall\";\"Nye tilfeller\"\n",
    "        \"21.02.2020\";1;1\n",
    "        \"22.02.2020\";1;0\n",
    "```"
   ]
  },
  {
   "cell_type": "markdown",
   "id": "d242a49c",
   "metadata": {
    "editable": false
   },
   "source": [
    "I så fall må du bruke `pandas.read_csv(\"filnavn.csv\", sep = \";\")`.\n",
    "Dette forteller pandas at din fil bruker semikolon mellom kolonnene.\n",
    "\n",
    "<!-- --- begin solution of exercise --- -->\n",
    "**Løsningsforslag.**\n",
    "Her brukes data som er lastet ned 30. august 2022."
   ]
  },
  {
   "cell_type": "code",
   "execution_count": 2,
   "id": "3335b33e",
   "metadata": {
    "collapsed": false,
    "editable": true
   },
   "outputs": [
    {
     "name": "stdout",
     "output_type": "stream",
     "text": [
      "           Dato  Kumulativt antall  Nye tilfeller\n",
      "0    2020-02-21                  1              1\n",
      "1    2020-02-22                  1              0\n",
      "2    2020-02-23                  1              0\n",
      "3    2020-02-24                  1              0\n",
      "4    2020-02-25                  1              0\n",
      "..          ...                ...            ...\n",
      "915  2022-08-24            1459502            124\n",
      "916  2022-08-25            1459599             97\n",
      "917  2022-08-26            1459675             76\n",
      "918  2022-08-27            1459709             34\n",
      "919  2022-08-28            1459738             29\n",
      "\n",
      "[920 rows x 3 columns]\n"
     ]
    }
   ],
   "source": [
    "import pandas\n",
    "tilfeller = pandas.read_csv(\"antall-meldte-covid-19-t.csv\")\n",
    "print(tilfeller)\n",
    "datoer = list(tilfeller['Dato'])\n",
    "antall = list(tilfeller['Kumulativt antall'])\n",
    "nye = list(tilfeller['Nye tilfeller'])"
   ]
  },
  {
   "cell_type": "markdown",
   "id": "a8a5944a",
   "metadata": {
    "editable": false
   },
   "source": [
    "<!-- --- end solution of exercise --- -->"
   ]
  },
  {
   "cell_type": "markdown",
   "id": "5abdee2c",
   "metadata": {
    "editable": false
   },
   "source": [
    "**c)**\n",
    "Vi har lyst å plotte det kumulative antall tilfeller,\n",
    "og det daglige antall nye tilfeller.\n",
    "Vi kan plotte tallene mot datoene, men om du gjør det blir det datoene\n",
    "ikke veldig lesbare (prøv dette gjerne).\n",
    "I stedet plotter vi bare data fra en av kolonnene: ved å gi `plot()` kommandoet\n",
    "bare en liste plottes verdiene på y-aksen, og talle fra `0, 1, 2, ...` på x-aksen.\n",
    "\n",
    "Lag nå et plott med det kumulative antall tilfeller.\n",
    "\n",
    "Lag et plot til for det daglige antall nye tilfeller.\n",
    "Husk tittel og navn på akser.\n",
    "Sammenlign plottene dine med de fra Folkehelsets sider.\n",
    "\n",
    "<!-- --- begin solution of exercise --- -->\n",
    "**Løsningsforslag.**"
   ]
  },
  {
   "cell_type": "code",
   "execution_count": 3,
   "id": "a7c3b157",
   "metadata": {
    "collapsed": false,
    "editable": true
   },
   "outputs": [
    {
     "data": {
      "image/png": "[encoded data removed]",
      "text/plain": [
       "<Figur size 432x288 with 1 Axes>"
      ]
     },
     "metadata": {
      "needs_background": "light"
     },
     "output_type": "display_data"
    },
    {
     "data": {
      "image/png": "[encoded data removed]",
      "text/plain": [
       "<Figur size 432x288 with 1 Axes>"
      ]
     },
     "metadata": {
      "needs_background": "light"
     },
     "output_type": "display_data"
    }
   ],
   "source": [
    "from pylab import *\n",
    "\n",
    "# kumulativ antall\n",
    "plot(antall)\n",
    "title(\"Covid-19 i Norge f.o.m. 21 februar 2020\")\n",
    "xlabel(\"Dager etter 21.02.2020\")\n",
    "ylabel(\"Kumulativ antall tilfeller\")\n",
    "show()\n",
    "\n",
    "# Nye tilfeller\n",
    "plot(nye)\n",
    "title(\"Covid-19 i Norge f.o.m. 21 februar 2020\")\n",
    "xlabel(\"Dager etter 21.02.2020\")\n",
    "ylabel(\"Antall nye tilfeller\")\n",
    "show()"
   ]
  },
  {
   "cell_type": "markdown",
   "id": "a8a5944a_1",
   "metadata": {
    "editable": false
   },
   "source": [
    "<!-- --- end solution of exercise --- -->"
   ]
  },
  {
   "cell_type": "markdown",
   "id": "200d5bbf",
   "metadata": {
    "editable": false
   },
   "source": [
    "**d)**\n",
    "Last nå ned og plott data for en annen graf på Folkehelsets sider, en av disse:\n",
    "* “Pasienter innlagt i sykehus med covid-19 som hovedårsak til innleggelsen”\n",
    "\n",
    "* \"Antall nye pasienter med bekreftet covid-19 innlagt i intensivavdeling\""
   ]
  },
  {
   "cell_type": "markdown",
   "id": "a525ccfa",
   "metadata": {
    "editable": false
   },
   "source": [
    "## Oppgave 2: Insulin produksjon\n",
    "\n",
    "I pensumboken \"Introduction to Analysis and Modeling in Biology with Python\",\n",
    "kapittel 2 blir det utviklet en matematisk modell\n",
    "for den lineære fase av insulin produksjon etter et måltid."
   ]
  },
  {
   "cell_type": "markdown",
   "id": "0f0f458b",
   "metadata": {
    "editable": false
   },
   "source": [
    "**a)**\n",
    "Se på figur 2.10 på side 56 i boken.\n",
    "Hva er betydningen av en negativ insulinkonsentrasjon,\n",
    "det vil si, når den stiplede linjen i den lineære modellen går under 0?\n",
    "Har svaret ditt noe å si for gyldigheten av modellen?\n",
    "\n",
    "<!-- --- begin answer of exercise --- -->\n",
    "**Fasit.**\n",
    "Biologisk gi dette ikke mening, sekresjon kan ikke være negativ.\n",
    "Modellen er bare gyldig for tidsintervallet der sekresjon stiger lineært.\n",
    "<!-- --- end answer of exercise --- -->"
   ]
  },
  {
   "cell_type": "markdown",
   "id": "72a728f3",
   "metadata": {
    "editable": false
   },
   "source": [
    "**b)**\n",
    "Basert på figur 2.10, når ville du sagt at insulinsekresjonen begynner å øke?\n",
    "Kan du komme med et presis svar bare basert på denne figuren?\n",
    "\n",
    "<!-- --- begin answer of exercise --- -->\n",
    "**Fasit.**\n",
    "Økningen starter mellom 30 og 45 minutter.\n",
    "Mer presis kan vi ikke være siden vi ikke har nok målepunkter mellom disse tidspunkter.\n",
    "<!-- --- end answer of exercise --- -->"
   ]
  },
  {
   "cell_type": "markdown",
   "id": "4b267f41",
   "metadata": {
    "editable": false
   },
   "source": [
    "**c)**\n",
    "I avsnitt \"2.6.1 How soon after a meal does insulin production start?\"\n",
    "besvares dette spørsmålet med modellen utviklet tidligere i kapitlet.\n",
    "Beskriv strategien som blir brukt for å besvare dette spørsmålet.\n",
    "\n",
    "<!-- --- begin answer of exercise --- -->\n",
    "**Fasit.**\n",
    "* Først blir sekresjonsnivået før måltidet bestemt ($7.1 \\mu$U/ml), og plottet inn i figuren (figur 2.11)\n",
    "\n",
    "* Så ble krysningspunktet mellom linjene beregnet matematisk\n",
    "\n",
    "<!-- --- end answer of exercise --- -->"
   ]
  },
  {
   "cell_type": "markdown",
   "id": "504277fc",
   "metadata": {
    "editable": false
   },
   "source": [
    "**d)**\n",
    "En matematiker sier \"Svaret på spørsmålet når insulinsekresjonen begynner å øke\n",
    "er når $C > 0$ (når den stiplede linjen krysser 0),\n",
    "det vil si når $t = 35$ minuter\"\n",
    "Gir dette svaret mening for en matematiker? For en biolog? Diskuter.\n",
    "\n",
    "<!-- --- begin answer of exercise --- -->\n",
    "**Fasit.**\n",
    "Matematisk har det kanskje noe for seg. Men biologisk gir det ikke mening.\n",
    "<!-- --- end answer of exercise --- -->"
   ]
  },
  {
   "cell_type": "markdown",
   "id": "6e026b4f",
   "metadata": {
    "editable": false
   },
   "source": [
    "**e)**\n",
    "På slutten av avsnittet er det skrevet:\n",
    "\n",
    "> We see that, using our model of insulin secretion, and some mathematics,\n",
    "> we can answer a biological question rather precisely.\n",
    "\n",
    "Beskriv hvordan matematikk, Python og modellering ble brukt\n",
    "for å svare på spørsmålet. Et eksempel av et mulig svar kan være\n",
    "at Python ble brukt til å plotte noe, mens\n",
    "matematikk ble brukt til å regne ut verdier.\n",
    "\n",
    "<!-- --- begin answer of exercise --- -->\n",
    "**Fasit.**\n",
    "**Python ble brukt**\n",
    "* til å plotte datasettet\n",
    "\n",
    "* til å finne grensen for produksjonen som var linær\n",
    "\n",
    "**Matematikk ble brukt**\n",
    "* til å finne formelen for lineær vekst\n",
    "\n",
    "**Modellering ble brukt**\n",
    "* til å modellere den lineære vekstfasen\n",
    "\n",
    "**Python ble brukt**\n",
    "* til å simulere den lineære vekstfasen\n",
    "\n",
    "* til å sammenligne simuleringen med insulin produksjon\n",
    "\n",
    "**Matematikk ble brukt**\n",
    "* til å finne tidspunktet når insulin produksjon begynte å stige\n",
    "\n",
    "<!-- --- end answer of exercise --- -->"
   ]
  },
  {
   "cell_type": "markdown",
   "id": "b1c73918",
   "metadata": {
    "editable": false
   },
   "source": [
    "## Oppgave 3: Linear growth\n",
    "\n",
    "Not many things in biology can be accurately modelled by linear growth. It is, nevertheless, a simple and useful tool that can be used to *roughly* model population growth, decay of compounds, and a host of other phenomena. Linear growth is also the basis for linear regression, which is used in statistics.\n",
    "\n",
    "In this example, we will look at the linear weight gain of a baby harp seal. Harp seals are one of the most abundant seal species, and are found in association with pack ice in the Arctic. The babies have one of the fastest weight gains in the animal kingdom."
   ]
  },
  {
   "cell_type": "markdown",
   "id": "4d2eaa5b",
   "metadata": {
    "editable": false
   },
   "source": [
    "**a)**\n",
    "A baby harp seal weighs 12kg when it is born. Thanks to its mother's fatty milk (10x more fatty than cow's milk!), the baby seal gains 2.5kg of weight every day.\n",
    "\n",
    "Why is this phenomenon a good example of linear growth?\n",
    "\n",
    "<!-- --- begin solution of exercise --- -->\n",
    "**Løsningsforslag.**\n",
    "It is a good example of linear growth as the rate of increase is the same each day (2.5kg per day)\n",
    "<!-- --- end solution of exercise --- -->"
   ]
  },
  {
   "cell_type": "markdown",
   "id": "df33fb49",
   "metadata": {
    "editable": false
   },
   "source": [
    "**b)**\n",
    "Write down a linear growth equation which you can use to calculate the weight of the seal ($y$) after $x$ number of days. In addition, answer the following questions:\n",
    "\n",
    "In this equation, what is the slope of the line ('stigningstall') and what is the intercept ('skjæringspunkt')?\n",
    "\n",
    "<!-- --- begin solution of exercise --- -->\n",
    "**Løsningsforslag.**\n",
    "The equation would be:\n",
    "$y = 2.5x + 12$\n",
    "\n",
    "$y$ is the weight of the seal and $x$ is the number of days.\n",
    "\n",
    "The slope of the line is 2.5 and the intercept is 12.\n",
    "<!-- --- end solution of exercise --- -->"
   ]
  },
  {
   "cell_type": "markdown",
   "id": "77a33be4",
   "metadata": {
    "editable": false
   },
   "source": [
    "**c)**\n",
    "Create a program in Python that implements this linear equation. Use your program to answer these questions: what is the weight of the seal\n",
    "\n",
    "1. after 1 day\n",
    "\n",
    "2. after 5 days\n",
    "\n",
    "3. after 100 days\n",
    "\n",
    "<!-- --- begin answer of exercise --- -->\n",
    "**Fasit.**\n",
    "The seal weighs 14.5kg after 1 day, 24.5kg after 5 days and 262kg after 100 days.\n",
    "<!-- --- end answer of exercise --- -->\n",
    "\n",
    "<!-- --- begin solution of exercise --- -->\n",
    "**Løsningsforslag.**"
   ]
  },
  {
   "cell_type": "code",
   "execution_count": 4,
   "id": "11a1e565",
   "metadata": {
    "collapsed": false,
    "editable": true
   },
   "outputs": [
    {
     "name": "stdout",
     "output_type": "stream",
     "text": [
      "14.5\n"
     ]
    }
   ],
   "source": [
    "days = 1 # this can be changed to 5 and 100 to find the weight after 5 and 100 days\n",
    "weight = (2.5 * days) + 12\n",
    "print(weight)"
   ]
  },
  {
   "cell_type": "markdown",
   "id": "a8a5944a_2",
   "metadata": {
    "editable": false
   },
   "source": [
    "<!-- --- end solution of exercise --- -->"
   ]
  },
  {
   "cell_type": "markdown",
   "id": "834cdaa1",
   "metadata": {
    "editable": false
   },
   "source": [
    "**d)**\n",
    "The little baby seal is not so little if would gain 2.5kg a day for 100 days! In actual fact, the mother stops feeding the baby after it reaches about 42 kilos.\n",
    "How many days will the mother feed her baby seal?\n",
    "\n",
    "<!-- --- begin solution of exercise --- -->\n",
    "**Løsningsforslag.**\n",
    "We use that:\n",
    "\n",
    "$y = 2.5x + 12$\n",
    "\n",
    "with\n",
    "\n",
    "$y = 42$\n",
    "\n",
    "And derive x as $\\frac{\\left(42-12\\right)}{2.5} = 12$\n",
    "\n",
    "Thus, after 12 days, they baby seal weighs 42 kilos.\n",
    "\n",
    "We could also say that the weight gain is 30 kilos,\n",
    "and with a daily (linear) growth of 2.5 kilos,\n",
    "30 kilos would take 12 days to gain.\n",
    "<!-- --- end solution of exercise --- -->"
   ]
  },
  {
   "cell_type": "markdown",
   "id": "6797f084",
   "metadata": {
    "editable": false
   },
   "source": [
    "## Oppgave 4: List splicing\n",
    "\n",
    "You have a list:\n",
    "`cell = [\"cell wall\", \"chloroplast\", \"nucleus\", \"membrane\", \"mitochondria\", \"Golgi apparatus\", \"lysosome\"]`\n",
    "\n",
    "Write a program so that you create a new list called `spliced_list` which contains following strings: `[\"nucleus\", \"membrane\", \"mitochondria\", \"Golgi apparatus\", \"lysosome\"]`.\n",
    "\n",
    "Print the list.\n",
    "\n",
    "<!-- --- begin solution of exercise --- -->\n",
    "**Løsningsforslag.**"
   ]
  },
  {
   "cell_type": "code",
   "execution_count": 5,
   "id": "912beee0",
   "metadata": {
    "collapsed": false,
    "editable": true
   },
   "outputs": [
    {
     "name": "stdout",
     "output_type": "stream",
     "text": [
      "['nucleus', 'membrane', 'mitochondria', 'Golgi apparatus', 'lysosome']\n"
     ]
    }
   ],
   "source": [
    "cell = [\"cell wall\", \"chloroplast\", \"nucleus\", \"membrane\", \"mitochondria\", \"Golgi apparatus\", \"lysosome\"]\n",
    "spliced_list = cell[2:]\n",
    "print(spliced_list)"
   ]
  },
  {
   "cell_type": "markdown",
   "id": "a8a5944a_3",
   "metadata": {
    "editable": false
   },
   "source": [
    "<!-- --- end solution of exercise --- -->"
   ]
  },
  {
   "cell_type": "markdown",
   "id": "fa87ae27",
   "metadata": {
    "editable": false
   },
   "source": [
    "## Flere Python oppgaver\n",
    "\n",
    "<div class=\"alert alert-block alert-info\">\n",
    "Denne siste øvelsen er et eksempel på en av de mange 'Øvingsoppgaver'\n",
    "for å øve denne ukens nye Python-konsepter.\n",
    "Du finner flere like øvelser blant \"Øvelsesoppgaver\" for denne ukens kapittel:\n",
    "se Canvas, under 'Pensum'.\n",
    "</div>"
   ]
  },
  {
   "cell_type": "markdown",
   "id": "9f1c3c4d",
   "metadata": {
    "editable": false
   },
   "source": [
    "## Oppgave 5: Temperature over time\n",
    "\n",
    "The file `temperatures.csv` contains temperature data measured over a 16 hour period\n",
    "in a small room during winter.\n",
    "The temperature was sampled at fixed time intervals.\n",
    "\n",
    "In this exercise, you are to determine, from this data,\n",
    "1. the average (mean) temperature over the sampling time rounded to two decimals\n",
    "\n",
    "2. the time interval used for the temperature sampling **in minutes and seconds**\n",
    "\n",
    "**NB** this is a typical exercise where you need to think about your coding strategy before you start coding."
   ]
  },
  {
   "cell_type": "markdown",
   "id": "ea2307f0",
   "metadata": {
    "editable": false
   },
   "source": [
    "**a)**\n",
    "Discuss with your neighbor what steps you would need and make\n",
    "to answer these two questions.\n",
    "Make a sketch on paper describing the different steps.\n",
    "Take a picture of your sketch and add it to this notebook.\n",
    "The assistants (gruppelærere) will demonstrate how to do this\n",
    "(in brief: save a copy of the image file on your PC, add a new cell, convert it to Markdown, from the 'Edit' menu, choose 'Insert Image', upload the image file)."
   ]
  },
  {
   "cell_type": "markdown",
   "id": "c29bd70b",
   "metadata": {
    "editable": false
   },
   "source": [
    "**b)**\n",
    "Write a python program that answers the two questions.\n",
    "Use a new, empty notebook to develop your answer, then paste the final results in this one. Make sure you occasionally reset all variables ('Kernel' menu, 'Restart and clear output')!\n",
    "\n",
    "<!-- --- begin answer of exercise --- -->\n",
    "**Fasit.**\n",
    "* The mean temperature was 18.15 degrees\n",
    "\n",
    "* The measurements were made every 8 minutes and 34 seconds\n",
    "\n",
    "<!-- --- end answer of exercise --- -->\n",
    "\n",
    "<!-- --- begin solution of exercise --- -->\n",
    "**Løsningsforslag.**"
   ]
  },
  {
   "cell_type": "code",
   "execution_count": 6,
   "id": "a427426d",
   "metadata": {
    "collapsed": false,
    "editable": true
   },
   "outputs": [
    {
     "name": "stdout",
     "output_type": "stream",
     "text": [
      "18.15\n",
      "Sampling was performed every 8.571428571428571 minutes\n",
      "Sampling was performed every 8 minutes and 34 seconds\n"
     ]
    }
   ],
   "source": [
    "import pandas\n",
    "\n",
    "# Question 1: the average (mean) temperature over time rounded to two decimals\n",
    "# Reads from csv file and convert to list\n",
    "data = pandas.read_csv(\"temperatures.csv\")\n",
    "temperature_data = list(data[\"Temperature\"])\n",
    "\n",
    "mean_temperature = sum(temperature_data)/len(temperature_data)\n",
    "print(round(mean_temperature,2))\n",
    "\n",
    "# Question 2: the time interval used in the temperature sampling in minutes and seconds\n",
    "# First, we need to find out how many minutes the experiment lasted\n",
    "hours = 16\n",
    "minutes = 16 * 60\n",
    "\n",
    "# Calculate how much minutes there were between every timestep,\n",
    "# this is the total time in minutes divided by the number of steps\n",
    "timestep = minutes/len(temperature_data)\n",
    "print(\"Sampling was performed every \" + str(timestep) + \" minutes\")\n",
    "\n",
    "# Get the minutes part\n",
    "# NB do not round off here!\n",
    "timestep_minutes = int(timestep)\n",
    "# Get the residual fraction of minutes,\n",
    "# this is the difference bewewen the average number of minutes,\n",
    "# and the minutes part\n",
    "timestep_residual = timestep - timestep_minutes\n",
    "\n",
    "# Convert this fraction back to seconds\n",
    "timestep_seconds = int(timestep_residual * 60)\n",
    "\n",
    "# Done!\n",
    "print(\"Sampling was performed every \" + str(timestep_minutes) + \" minutes and \" + str(timestep_seconds) + \" seconds\")"
   ]
  },
  {
   "cell_type": "markdown",
   "id": "e902e1af",
   "metadata": {
    "editable": false
   },
   "source": [
    "<!-- --- end solution of exercise --- -->\n",
    "\n",
    "<!--  -->\n",
    "<!--  -->\n",
    "<!--  -->\n",
    "<!--  -->\n",
    "<!--  -->"
   ]
  },
  {
   "cell_type": "markdown",
   "id": "71a4edec",
   "metadata": {
    "editable": false
   },
   "source": [
    "## Oppgave 6: Number of ant species at different elevations in Spring Mountains\n",
    "\n",
    "Ants are ubiquitous in the Earth's terrestrial ecosystems and there are more than 12.000 species of ants. The number of species present in an area is often determined by climatic factors such as temperature and rainfall, factors that tend to vary along an altitudinal gradient. For example, the higher the elevation, the lower the temperature. Rainfall may decrease or increase with elevation, depending on the situation of the mountain; in a hot environment, for example, rainfall tends to increases with elevation.\n",
    "\n",
    "In 2003 a group of researchers went to Spring Mountain in the desert of Southern Nevada (USA) to investigate the species richness (number of species) of ants along an elevational gradient. They sampled ants from elevations ranging from 1000 to 2100 meters above sea level and counted the number of species they found at each 100 meters. In the Spring Mountains (being located in a hot and arid environment) rainfall increases with altitude.\n",
    "\n",
    "(This exercise is based on the paper [Patterns of ant species richness along elevational gradients in an arid ecosystem](https://onlinelibrary.wiley.com/doi/full/10.1046/j.1466-822X.2003.00324.x) by Sanders et al. from 2003. The data is estimated from figure 5 in the paper)\n",
    "\n",
    "In this exercise, you will\n",
    "* Investigate the relationship between elevation and number of ant species, and try to make biological sense of it\n",
    "\n",
    "* Determine whether (parts of) the data can be modelled using a linear relationship between elevation and number of ant species\n",
    "\n",
    "* Compare your model with a different model that you will be given\n",
    "\n",
    "* Discuss which of the two models, if any, fits the data best"
   ]
  },
  {
   "cell_type": "markdown",
   "id": "f3a31bd6",
   "metadata": {
    "editable": false
   },
   "source": [
    "**a)**\n",
    "The file `ant_species_elevation.csv` contains data of number of ant species found in altitudes ranging from 1000 to 2200 meters. Plot the data in the file, remember the plot title and labels on both axes. Use points, not a line connecting all points (e.g. `\"o\"`).\n",
    "\n",
    "* describe the relationship\n",
    "\n",
    "* is (part of) this distribution linear?\n",
    "\n",
    "<!-- --- begin answer of exercise --- -->\n",
    "**Fasit.**\n",
    "Species number correlates positively with altitude and the relationship appears to be linear for a certain range, for example 1300 to 2000 meters, of the elevation.\n",
    "<!-- --- end answer of exercise --- -->\n",
    "\n",
    "<!-- --- begin solution of exercise --- -->\n",
    "**Løsningsforslag.**"
   ]
  },
  {
   "cell_type": "code",
   "execution_count": 7,
   "id": "74ea6dd6",
   "metadata": {
    "collapsed": false,
    "editable": true
   },
   "outputs": [
    {
     "data": {
      "image/png": "[encoded data removed]",
      "text/plain": [
       "<Figur size 432x288 with 1 Axes>"
      ]
     },
     "metadata": {
      "needs_background": "light"
     },
     "output_type": "display_data"
    }
   ],
   "source": [
    "import pandas\n",
    "from pylab import*\n",
    "\n",
    "data = pandas.read_csv(\"ant_species_elevation.csv\")\n",
    "\n",
    "elevations = list(data[\"Elevation\"])\n",
    "ant_species = list(data[\"Number of ant species\"])\n",
    "\n",
    "plot(elevations, ant_species, \"o\")\n",
    "title(\"Number of ant species at different altitudes in Spring Mountains\")\n",
    "xlabel(\"Elevation (m)\")\n",
    "ylabel(\"Number of ant species\")\n",
    "show()"
   ]
  },
  {
   "cell_type": "markdown",
   "id": "a8a5944a_4",
   "metadata": {
    "editable": false
   },
   "source": [
    "<!-- --- end solution of exercise --- -->"
   ]
  },
  {
   "cell_type": "markdown",
   "id": "ef54893b",
   "metadata": {
    "editable": false
   },
   "source": [
    "**b)**\n",
    "Discuss some possible (biological) reason(s) for this pattern.\n",
    "\n",
    "<!-- --- begin answer of exercise --- -->\n",
    "**Fasit.**\n",
    "Spring Mountains are located in a very dry and hot/arid area, but at higher elevations the temperature is lower, there is more rainfall and vegetation, which provides better living conditions for ants.\n",
    "This is most likely the reason we see a higher number of species at higher elevations.\n",
    "The more or less constant number of ant species between 1000 and 1300 meter may be the result of a more stable climate at those altitudes.\n",
    "<!-- --- end answer of exercise --- -->"
   ]
  },
  {
   "cell_type": "markdown",
   "id": "8a8de47f",
   "metadata": {
    "editable": false
   },
   "source": [
    "**c)**\n",
    "Restrict your plot to the part of the data that could fit a linear model.\n",
    "\n",
    "Here are two possible ways of doing this:\n",
    "\n",
    "1. make new lists that only contain the data you want to plot and plot these lists\n",
    "\n",
    "2. with plotting, you can use the functions `xlim()` and `ylim()` to restrict which part of the data is being shown in the plot. For example, `xlim(1100, 1300)` only shows the part of the plot between x-values 1100 and 1300. Try using these functions to answer this subexercise.\n",
    "\n",
    "Use *both* these approaches.\n",
    "\n",
    "Why did you choose these two particular data points?\n",
    "\n",
    "<!-- --- begin solution of exercise --- -->\n",
    "**Løsningsforslag.**\n",
    "We choose the data points (1300, 11) and (2000, 24),\n",
    "but you may have used other datapoints.\n",
    "\n",
    "`1300` is the 4th element in the `elevations` list\n",
    "and `11` is also the 4th element in the `ant_species` list.\n",
    "`2000` is the 10th element in the `elevations` list\n",
    "and `24` is also the 10th element in the `ant_species` list.\n",
    "\n",
    "We thus need to use the slice `[3:11]`:\n",
    "starting from the 4th element, selecting until the 11th, not including.\n",
    "\n",
    "**Method 1**:\n",
    "\n",
    "We can make two new lists like this:"
   ]
  },
  {
   "cell_type": "code",
   "execution_count": 8,
   "id": "b833a004",
   "metadata": {
    "collapsed": false,
    "editable": true
   },
   "outputs": [],
   "source": [
    "elevations2 = elevations[3:11]\n",
    "ant_species2 = ant_species[3:11]"
   ]
  },
  {
   "cell_type": "markdown",
   "id": "6ab47d27",
   "metadata": {
    "editable": false
   },
   "source": [
    "And we can make the plot with:"
   ]
  },
  {
   "cell_type": "code",
   "execution_count": 9,
   "id": "2d5f8e53",
   "metadata": {
    "collapsed": false,
    "editable": true
   },
   "outputs": [
    {
     "data": {
      "image/png": "[encoded data removed]",
      "text/plain": [
       "<Figur size 432x288 with 1 Axes>"
      ]
     },
     "metadata": {
      "needs_background": "light"
     },
     "output_type": "display_data"
    }
   ],
   "source": [
    "plot(elevations2, ant_species2, \"o\")\n",
    "title(\"Number of ant species at different altitudes in Spring Mountains\")\n",
    "xlabel(\"Elevation (m)\")\n",
    "ylabel(\"Number of ant species\")\n",
    "show()"
   ]
  },
  {
   "cell_type": "markdown",
   "id": "965b15b3",
   "metadata": {
    "editable": false
   },
   "source": [
    "**Method 2**:\n",
    "\n",
    "Slice the list in the `plot` command"
   ]
  },
  {
   "cell_type": "code",
   "execution_count": 10,
   "id": "f62903ce",
   "metadata": {
    "collapsed": false,
    "editable": true
   },
   "outputs": [
    {
     "data": {
      "image/png": "[encoded data removed]",
      "text/plain": [
       "<Figur size 432x288 with 1 Axes>"
      ]
     },
     "metadata": {
      "needs_background": "light"
     },
     "output_type": "display_data"
    }
   ],
   "source": [
    "plot(elevations[3:11], ant_species[3:11], \"o\")\n",
    "title(\"Number of ant species at different altitudes in Spring Mountains\")\n",
    "xlabel(\"Elevation (m)\")\n",
    "ylabel(\"Number of ant species\")\n",
    "show()"
   ]
  },
  {
   "cell_type": "markdown",
   "id": "3ca5cade",
   "metadata": {
    "editable": false
   },
   "source": [
    "**Method 3**:\n",
    "\n",
    "Using `xlim()`:"
   ]
  },
  {
   "cell_type": "code",
   "execution_count": 11,
   "id": "09d27fe1",
   "metadata": {
    "collapsed": false,
    "editable": true
   },
   "outputs": [
    {
     "data": {
      "image/png": "[encoded data removed]",
      "text/plain": [
       "<Figur size 432x288 with 1 Axes>"
      ]
     },
     "metadata": {
      "needs_background": "light"
     },
     "output_type": "display_data"
    }
   ],
   "source": [
    "plot(elevations, ant_species, \"o\")\n",
    "title(\"Number of ant species at different altitudes in Spring Mountains\")\n",
    "xlim(1300, 2000)\n",
    "xlabel(\"Elevation (m)\")\n",
    "ylabel(\"Number of ant species\")\n",
    "show()"
   ]
  },
  {
   "cell_type": "markdown",
   "id": "a8a5944a_5",
   "metadata": {
    "editable": false
   },
   "source": [
    "<!-- --- end solution of exercise --- -->"
   ]
  },
  {
   "cell_type": "markdown",
   "id": "d9b5c028",
   "metadata": {
    "editable": false
   },
   "source": [
    "**d)**\n",
    "Try to find a linear model that could fit the part of the data you have plotted. Use the same approach as was done for the insulin secretion modelling:\n",
    "\n",
    "* Use the first and last data points of your selected part of the data to calculate slope and intercept and write the equation for the model.\n",
    "\n",
    "* Then simulate the linear relationship between elevation and number of ant species.\n",
    "\n",
    "* Plot the simulated data on top of **all** the real data (not only the part you selected).\n",
    "\n",
    "Remember that a straight line can be plotted by using only two datapoints. (just as how we simulated data for linear insulin secretion).\n",
    "\n",
    "<!-- --- begin answer of exercise --- -->\n",
    "**Fasit.**\n",
    "Slope is calculated by:"
   ]
  },
  {
   "cell_type": "markdown",
   "id": "a150ac45",
   "metadata": {
    "editable": false
   },
   "source": [
    "$$\n",
    "a = \\frac{y_2 - y_1}{x_2 - x_1}\n",
    "$$"
   ]
  },
  {
   "cell_type": "markdown",
   "id": "2aac65b6",
   "metadata": {
    "editable": false
   },
   "source": [
    "so, for example, if we choose the data points (1300, 11) and (2000, 24), we get the slope:\n",
    "\n",
    "$a = \\frac{24 - 11}{2000 - 1300} = \\frac{13}{700} = 0.02$\n",
    "\n",
    "The intercept we get by using the equation for a linear model, $y = ax + b$, select a value of $y$ and solve for $b$. In our case this gives:\n",
    "\n",
    "$24 = 0.02\\cdot2000 + b$\n",
    "\n",
    "$24 = 40 + b$\n",
    "\n",
    "$b = 24 - 40 = -16$\n",
    "\n",
    "Now we have slope $a = 0.02$ and intercept $b = -16$, thus the equation becomes $y =  0.02x - 16$\n",
    "\n",
    "Note that if you have chosen (1300, 11), your $b$ would be -15. Also note that all following results may be slightly different is you have chosen two different datapoints for calulcating slope and intercept.\n",
    "<!-- --- end answer of exercise --- -->\n",
    "\n",
    "<!-- --- begin solution of exercise --- -->\n",
    "**Løsningsforslag.**\n",
    "* store the elevations for the simulation in `es_sim`\n",
    "\n",
    "* store simulated number of ant species in `ants_sim`\n",
    "\n",
    "* the elevations for the simulation could be the same as the ones we used to calculate the linear model parameters $a$, and $b$:"
   ]
  },
  {
   "cell_type": "code",
   "execution_count": 12,
   "id": "fe64a5c8",
   "metadata": {
    "collapsed": false,
    "editable": true
   },
   "outputs": [],
   "source": [
    "es_sim = [1300, 2000]"
   ]
  },
  {
   "cell_type": "markdown",
   "id": "2a5b4488",
   "metadata": {
    "editable": false
   },
   "source": [
    "* we now calculate the simlulated values from the model and add them tio the `ants_sim` list"
   ]
  },
  {
   "cell_type": "code",
   "execution_count": 13,
   "id": "311d7e9a",
   "metadata": {
    "collapsed": false,
    "editable": true
   },
   "outputs": [],
   "source": [
    "ants_sim = []\n",
    "\n",
    "# for es_sim = 1300:\n",
    "simulated = 1300 * 0.02 - 16\n",
    "ants_sim.append(simulated)\n",
    "\n",
    "# for es_sim = 2000:\n",
    "simulated = 2000 * 0.02 - 16\n",
    "ants_sim.append(simulated)"
   ]
  },
  {
   "cell_type": "markdown",
   "id": "86b4aa8f",
   "metadata": {
    "editable": false
   },
   "source": [
    "* we can now plot these new lists together with the real data"
   ]
  },
  {
   "cell_type": "code",
   "execution_count": 14,
   "id": "2ec6da30",
   "metadata": {
    "collapsed": false,
    "editable": true
   },
   "outputs": [
    {
     "data": {
      "image/png": "[encoded data removed]",
      "text/plain": [
       "<Figur size 432x288 with 1 Axes>"
      ]
     },
     "metadata": {
      "needs_background": "light"
     },
     "output_type": "display_data"
    }
   ],
   "source": [
    "plot(elevations, ant_species, \"o\")\n",
    "plot(es_sim, ants_sim)\n",
    "title(\"Number of ant species at different altitudes in Spring Mountains\")\n",
    "xlabel(\"Elevation (m)\")\n",
    "ylabel(\"Number of ant species\")\n",
    "show()"
   ]
  },
  {
   "cell_type": "markdown",
   "id": "a8a5944a_6",
   "metadata": {
    "editable": false
   },
   "source": [
    "<!-- --- end solution of exercise --- -->"
   ]
  },
  {
   "cell_type": "markdown",
   "id": "8763f180",
   "metadata": {
    "editable": false
   },
   "source": [
    "**e)**\n",
    "Before we continue to the next part,\n",
    "read the introduction to this exercise again,\n",
    "and the subexercises `a), b), c), d)` asked so far.\n",
    "Then, answer these questions for every subexercise:\n",
    "* which parts of the text given in the introduction and for each subexercise did you need to answer these questions?\n",
    "\n",
    "* was there any information missing?\n",
    "\n",
    "* did you understand what you are being asked to do before you started working on your answer? If not, what was unclear and how did you resolve that?\n",
    "\n",
    "Finally: what information given was *unnecessary* to answer the subexercises?"
   ]
  },
  {
   "cell_type": "markdown",
   "id": "3f15338c",
   "metadata": {
    "editable": false
   },
   "source": [
    "**f)**\n",
    "If we wanted to find the line that best fits **all** the data points\n",
    "we could manually try many different ranges of datapoints\n",
    "to determine the linear equation and compare them to the data.\n",
    "Luckily there is a statistical method, called *linear regression*,\n",
    "that helps us to find this \"best fit\" line.\n",
    "We will not go into detail on how this is done,\n",
    "but a linear regression on this data gives us\n",
    "a slope of `0.0113` and an intercept of `-1.284`.\n",
    "\n",
    "Investigate whether this model fits the data better\n",
    "by repeating the steps above\n",
    "and making a plot with the data and simulations from both models.\n",
    "\n",
    "Answer these questions:\n",
    "* Describe the differences between the two models and how well they 'fit' the data\n",
    "\n",
    "* Which model, if any, fits the data best and why?\n",
    "\n",
    "Notes\n",
    "* The linear regression model is based an the *entire* dataset. Take this into consideration when schoosing which elevation range to use for the simulation\n",
    "\n",
    "* Add a legend to your plot\n",
    "\n",
    "<!-- --- begin answer of exercise --- -->\n",
    "**Fasit.**\n",
    "Possible discussion points:\n",
    "* The linear regression model uses all datapoints, which explains the lower slope\n",
    "\n",
    "* The linear model fits the elevation range it was based on a bit better than the linear regression model, but not at all the data for the lowest elevation\n",
    "\n",
    "* The linear regression model fits worse in the highest elevations, but at least takes the lowest elevations into consideration.\n",
    "\n",
    "<!-- --- end answer of exercise --- -->\n",
    "\n",
    "<!-- --- begin solution of exercise --- -->\n",
    "**Løsningsforslag.**"
   ]
  },
  {
   "cell_type": "code",
   "execution_count": 15,
   "id": "01292bd1",
   "metadata": {
    "collapsed": false,
    "editable": true
   },
   "outputs": [
    {
     "data": {
      "image/png": "[encoded data removed]",
      "text/plain": [
       "<Figur size 432x288 with 1 Axes>"
      ]
     },
     "metadata": {
      "needs_background": "light"
     },
     "output_type": "display_data"
    }
   ],
   "source": [
    "es_sim2 = [1000, 2100]\n",
    "ants_sim2 = []\n",
    "\n",
    "# for es_sim2 = 1000:\n",
    "simulated = 1000 * 0.0113 - 1.284\n",
    "ants_sim2.append(simulated)\n",
    "\n",
    "# for es_sim2 = 2100:\n",
    "simulated = 2100 * 0.0113 - 1.284\n",
    "ants_sim2.append(simulated)\n",
    "\n",
    "plot(elevations, ant_species, \"o\")\n",
    "plot(es_sim, ants_sim, label=\"Linear model\")\n",
    "plot(es_sim2, ants_sim2, label=\"Linear regression model\")\n",
    "title(\"Number of ant species at different altitudes in Spring Mountains\")\n",
    "xlabel(\"Elevation (m)\")\n",
    "ylabel(\"Number of ant species\")\n",
    "legend()\n",
    "show()"
   ]
  },
  {
   "cell_type": "markdown",
   "id": "a8a5944a_7",
   "metadata": {
    "editable": false
   },
   "source": [
    "<!-- --- end solution of exercise --- -->"
   ]
  },
  {
   "cell_type": "markdown",
   "id": "d4b87d4f",
   "metadata": {
    "editable": false
   },
   "source": [
    "**g)**\n",
    "Both models have negative intercepts. What would this mean for the number of ant species at sea level (0 meters)?\n",
    "\n",
    "<!-- --- begin answer of exercise --- -->\n",
    "**Fasit.**\n",
    "In the model obtained from linear regression, the intercept is realistically imbossible as it implies that at sea level, there would be a negative number of ant species! There is (as far as we know) no such thing as anti-species.\n",
    "<!-- --- end answer of exercise --- -->"
   ]
  },
  {
   "cell_type": "markdown",
   "id": "f21be5f2",
   "metadata": {
    "editable": false
   },
   "source": [
    "## Ekstra oppgave"
   ]
  },
  {
   "cell_type": "markdown",
   "id": "0b650228",
   "metadata": {
    "editable": false
   },
   "source": [
    "## Oppgave 7: Effects of obesity on insulin secretion\n",
    "\n",
    "In \"Introduction to Analysis and Modeling in Biology with Python\", chapter 2\n",
    "we saw that insulin secretion increased after breakfast. Now we want to have a look at the measurmenets from both non-obese and obese subjects and compare the data.\n",
    "Here, we will focus on the Insulin secretion rates and compare these between non-obese and obese subjects. We want to see if obese subjects exhibit a different secretion rate of insulin after breakfast when compared to non-obese subjects. In particular, we want to answer the question:\n",
    "\n",
    "> How much slower or faster is the insulin secretion rate after breakfast in obese people compared to non-obese people?\n",
    "\n",
    "To explore the effects of obesity on insulin secretion rate we have to use both data series. We want to compare the collected data from both obese and non-obese subjects.\n",
    "\n",
    "<!-- dom:FIGURE: [figures/non-obese_obese.png, width=600] -->\n",
    "<!-- begin figure -->\n",
    "\n",
    "<img src=\"figures/non-obese_obese.png\" width=\"600\"><p style=\"font-size: 0.9em\"><i>Figur 1</i></p>\n",
    "<!-- end figure -->\n",
    "\n",
    "We could compare the two tables directly, seeing trends in the data just by looking at the numbers is hard. If the tables had tens of thousands of data points, the task of comparing the data manually would be nearly impossible! Let us instead plot this dataset in the same plot as the previous dataset."
   ]
  },
  {
   "cell_type": "markdown",
   "id": "3da4f9b3",
   "metadata": {
    "editable": false
   },
   "source": [
    "**a)**\n",
    "The data from the above table is available in a file called `insulin_prod_both.csv`.\n",
    "* open the file in the notebook and compare it to the table\n",
    "\n",
    "* read in the dataset using `pandas.read_csv` as explained in the chapter\n",
    "\n",
    "* make three lists\n",
    "\n",
    "    * `ts` for the timepoints\n",
    "\n",
    "    * `Ns` for the non-obese insulin production\n",
    "\n",
    "    * `Os` for the production in obese people\n",
    "\n",
    "Check your lists by printing them.\n",
    "\n",
    "NOTE that here, for the non-obese subjects dataset,\n",
    "instead of `ys` as we did in group work, `Ns` is used.\n",
    "\n",
    "<!-- --- begin answer of exercise --- -->\n",
    "**Fasit.**"
   ]
  },
  {
   "cell_type": "code",
   "execution_count": 16,
   "id": "782d43f2",
   "metadata": {
    "collapsed": false,
    "editable": true
   },
   "outputs": [
    {
     "name": "stdout",
     "output_type": "stream",
     "text": [
      "[0, 15, 30, 45, 60, 75, 90, 105, 120]\n",
      "[7.1, 7.2, 7.1, 10.0, 26.7, 43.3, 56.4, 56.8, 49.7]\n",
      "[18.4, 19.8, 18.4, 20.3, 63.3, 97.4, 120.2, 118.7, 121.0]\n"
     ]
    }
   ],
   "source": [
    "import pandas\n",
    "\n",
    "data = pandas.read_csv(\"insulin_prod_both.csv\")\n",
    "\n",
    "ts = list(data[\"minutes\"])\n",
    "Ns = list(data[\"non-obese\"])\n",
    "Os = list(data[\"obese\"])\n",
    "\n",
    "print(ts)\n",
    "print(Ns)\n",
    "print(Os)"
   ]
  },
  {
   "cell_type": "markdown",
   "id": "e5d739bb",
   "metadata": {
    "editable": false
   },
   "source": [
    "<!-- --- end answer of exercise --- -->"
   ]
  },
  {
   "cell_type": "markdown",
   "id": "0121b2a7",
   "metadata": {
    "editable": false
   },
   "source": [
    "**b)**\n",
    "Make a plot with these two datasets together. Give the plot a title, axis labels and a legend.\n",
    "\n",
    "<!-- --- begin answer of exercise --- -->\n",
    "**Fasit.**\n",
    "NOTE that in the solutions here, instead of `ys`, `Ns` is used for that non-obese subjects dataset."
   ]
  },
  {
   "cell_type": "code",
   "execution_count": 17,
   "id": "3d4df396",
   "metadata": {
    "collapsed": false,
    "editable": true
   },
   "outputs": [
    {
     "data": {
      "image/png": "[encoded data removed]",
      "text/plain": [
       "<Figur size 432x288 with 1 Axes>"
      ]
     },
     "metadata": {
      "needs_background": "light"
     },
     "output_type": "display_data"
    }
   ],
   "source": [
    "from pylab import *\n",
    "\n",
    "plot(ts, Ns, \"g-\", label = \"non-obese subjects\")\n",
    "plot(ts, Os, \"b-\", label = \"obese subjects\")\n",
    "xlabel(\"Time, t [minutes]\")\n",
    "ylabel(\"Insulin secretion, C [microU/ml]\")\n",
    "title(\"Measured insulin secretion over 24 hours\")\n",
    "legend()\n",
    "show()"
   ]
  },
  {
   "cell_type": "markdown",
   "id": "e5d739bb_1",
   "metadata": {
    "editable": false
   },
   "source": [
    "<!-- --- end answer of exercise --- -->"
   ]
  },
  {
   "cell_type": "markdown",
   "id": "7dcc6453",
   "metadata": {
    "editable": false
   },
   "source": [
    "**c)**\n",
    "Interpret the plot\n",
    "\n",
    "<!-- --- begin answer of exercise --- -->\n",
    "**Fasit.**\n",
    "* basal insulin secretion is much lower in non-obese subjects than obese subjects\n",
    "\n",
    "* in obese subjects, insulin secretion rises faster and to a higher level after breakfast\n",
    "\n",
    "<!-- --- end answer of exercise --- -->"
   ]
  },
  {
   "cell_type": "markdown",
   "id": "ad8b19b7",
   "metadata": {
    "editable": false
   },
   "source": [
    "**d)**\n",
    "As for the non-obese dataset, set up the model as described in the book\n",
    "(chapter 2) to describe the linear growth phase of the secretion.\n",
    "* use $O = at + b$ for the equation, with 'O' for 'obese'\n",
    "\n",
    "* calculate the relevant parameters (secretion rate, intercept)\n",
    "\n",
    "* add the model as another stippled line to the plot\n",
    "\n",
    "* do not use the same variable names in Python for secretion rate and intercept, find some smart new ones\n",
    "\n",
    "* also add the lines for the non-obese dataset from earlier\n",
    "\n",
    "<!-- --- begin solution of exercise --- -->\n",
    "**Løsningsforslag.**\n",
    "Secretion rate:"
   ]
  },
  {
   "cell_type": "code",
   "execution_count": 18,
   "id": "2d63414e",
   "metadata": {
    "collapsed": false,
    "editable": true
   },
   "outputs": [
    {
     "name": "stdout",
     "output_type": "stream",
     "text": [
      "Secretion rate of obese subjects: 2.22 [microU/ml/minute]\n"
     ]
    }
   ],
   "source": [
    "t1 = ts[3] # same as used before\n",
    "t2 = ts[6] # same as used before\n",
    "\n",
    "O1 = Os[3]\n",
    "O2 = Os[6]\n",
    "\n",
    "a_O = (O2 - O1)/(t2 - t1)\n",
    "print(\"Secretion rate of obese subjects:\", a_O, \"[microU/ml/minute]\")"
   ]
  },
  {
   "cell_type": "markdown",
   "id": "9e5a586c",
   "metadata": {
    "editable": false
   },
   "source": [
    "Linear growth formula, using timepoint $t = 45$ and $O = 20.3$:\n",
    "\n",
    "$O = at + b$\n",
    "\n",
    "with\n",
    "1. $O = 20.3$\n",
    "\n",
    "2. $a = 2.22$\n",
    "\n",
    "3. $t = 45$\n",
    "\n",
    "We then derive:\n",
    "\n",
    "$20.3 = 2.22 \\times 45 + b$\n",
    "\n",
    "$b = 20.3 - 2.22 \\times 45$\n",
    "\n",
    "$b = -79.6$\n",
    "\n",
    "So the linear equation becomes"
   ]
  },
  {
   "cell_type": "markdown",
   "id": "4f89de16",
   "metadata": {
    "editable": false
   },
   "source": [
    "$$\n",
    "O = 2.22 \\times t - 79.6\n",
    "$$"
   ]
  },
  {
   "cell_type": "markdown",
   "id": "e3a3bbfc",
   "metadata": {
    "editable": false
   },
   "source": [
    "Setting up lists for plotting:"
   ]
  },
  {
   "cell_type": "code",
   "execution_count": 19,
   "id": "de5ea738",
   "metadata": {
    "collapsed": false,
    "editable": true
   },
   "outputs": [],
   "source": [
    "ts_sim = [0,90] # same as before\n",
    "Ns_sim = [-36.35]  # same as before\n",
    "Ns_sim.append(1.03 * 90 - 36.65) # same as before\n",
    "\n",
    "\n",
    "Os_sim = [-79.6]\n",
    "Os_sim.append(2.22 * 90 - 79.6)"
   ]
  },
  {
   "cell_type": "markdown",
   "id": "068faafe",
   "metadata": {
    "editable": false
   },
   "source": [
    "Plotting:"
   ]
  },
  {
   "cell_type": "code",
   "execution_count": 20,
   "id": "c3314803",
   "metadata": {
    "collapsed": false,
    "editable": true
   },
   "outputs": [
    {
     "data": {
      "image/png": "[encoded data removed]",
      "text/plain": [
       "<Figur size 432x288 with 1 Axes>"
      ]
     },
     "metadata": {
      "needs_background": "light"
     },
     "output_type": "display_data"
    }
   ],
   "source": [
    "plot(ts, Ns, \"g-\", label = \"non-obese subjects\")\n",
    "plot(ts, Os, \"b-\", label = \"obese subjects\")\n",
    "plot(ts_sim, Ns_sim, \":\", label = \"Linear equation non-obese dataset\")\n",
    "plot(ts_sim, Os_sim, \":\", label = \"Linear equation obese dataset\")\n",
    "xlabel(\"Time, t [minutes]\")\n",
    "ylabel(\"Insulin secretion, C [microU/ml]\")\n",
    "title(\"Measured insulin secretion\")\n",
    "legend()\n",
    "show()"
   ]
  },
  {
   "cell_type": "markdown",
   "id": "a8a5944a_8",
   "metadata": {
    "editable": false
   },
   "source": [
    "<!-- --- end solution of exercise --- -->"
   ]
  },
  {
   "cell_type": "markdown",
   "id": "13085c69",
   "metadata": {
    "editable": false
   },
   "source": [
    "**e)**\n",
    "Now answer our question:\n",
    "\n",
    "> How much slower or faster is the insulin secretion rate after breakfast in obese people compared to non-obese people?\n",
    "\n",
    "Can you give a precise (calculated) answer?\n",
    "\n",
    "<!-- --- begin solution of exercise --- -->\n",
    "**Løsningsforslag.**\n",
    "The insulin secretion rate after breakfast is slightly more than doubled in obese subjects when compared to non-obese subjects:"
   ]
  },
  {
   "cell_type": "code",
   "execution_count": 21,
   "id": "ec03e6e6",
   "metadata": {
    "collapsed": false,
    "editable": true
   },
   "outputs": [
    {
     "name": "stdout",
     "output_type": "stream",
     "text": [
      "Ratio between secretion rate observed for obese and non-obese subjects: 2.1553398058252426\n"
     ]
    }
   ],
   "source": [
    "a_N = 1.03 # secretion rate non-obese\n",
    "\n",
    "d = a_O/a_N\n",
    "print(\"Ratio between secretion rate observed for obese and non-obese subjects:\", d)"
   ]
  },
  {
   "cell_type": "markdown",
   "id": "a8a5944a_9",
   "metadata": {
    "editable": false
   },
   "source": [
    "<!-- --- end solution of exercise --- -->"
   ]
  }
 ],
 "metadata": {},
 "nbformat": 4,
 "nbformat_minor": 5
}
